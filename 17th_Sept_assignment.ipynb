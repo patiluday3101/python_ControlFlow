{
  "nbformat": 4,
  "nbformat_minor": 0,
  "metadata": {
    "colab": {
      "provenance": []
    },
    "kernelspec": {
      "name": "python3",
      "display_name": "Python 3"
    },
    "language_info": {
      "name": "python"
    }
  },
  "cells": [
    {
      "cell_type": "code",
      "execution_count": null,
      "metadata": {
        "id": "YgcuJESRGm0v"
      },
      "outputs": [],
      "source": []
    },
    {
      "cell_type": "markdown",
      "source": [
        "# For Loop :"
      ],
      "metadata": {
        "id": "iTLCIY41G20b"
      }
    },
    {
      "cell_type": "markdown",
      "source": [
        "1.Write a Python program to print numbers from 1 to 10 using a for loop."
      ],
      "metadata": {
        "id": "zTcorAVMHCFo"
      }
    },
    {
      "cell_type": "code",
      "source": [
        "for i in range(1,11):\n",
        "  print(i,end=\" \")"
      ],
      "metadata": {
        "colab": {
          "base_uri": "https://localhost:8080/"
        },
        "id": "9aEMqFbJHGIs",
        "outputId": "d15f179a-3a59-47b1-8945-0e017b807c4e"
      },
      "execution_count": null,
      "outputs": [
        {
          "output_type": "stream",
          "name": "stdout",
          "text": [
            "1 2 3 4 5 6 7 8 9 10 "
          ]
        }
      ]
    },
    {
      "cell_type": "markdown",
      "source": [
        "2.Explain the difference between a for loop and a while loop in Python."
      ],
      "metadata": {
        "id": "Kpe2IiwRHR5a"
      }
    },
    {
      "cell_type": "markdown",
      "source": [
        "###Ans - For loop is used when the number of iterations is already known. While loop is used when the number of iterations is already Unknown."
      ],
      "metadata": {
        "id": "0GlyIvt-HXGL"
      }
    },
    {
      "cell_type": "markdown",
      "source": [
        "3.Write a Python program to calculate the sum of all numbers from 1 to 100 using a for loop.\n"
      ],
      "metadata": {
        "id": "gWLBZ3zjHs8u"
      }
    },
    {
      "cell_type": "code",
      "source": [
        "sum=0\n",
        "for i in range(101):\n",
        "  sum+=i\n",
        "print(sum)"
      ],
      "metadata": {
        "colab": {
          "base_uri": "https://localhost:8080/"
        },
        "id": "IgHDq30sHVjS",
        "outputId": "dac534fe-5e8b-45d7-a5f4-2e125f636f04"
      },
      "execution_count": null,
      "outputs": [
        {
          "output_type": "stream",
          "name": "stdout",
          "text": [
            "5050\n"
          ]
        }
      ]
    },
    {
      "cell_type": "markdown",
      "source": [
        "4.How do you iterate through a list using a for loop in Python?\n"
      ],
      "metadata": {
        "id": "YB4ewrsSIDgO"
      }
    },
    {
      "cell_type": "code",
      "source": [
        "\n",
        "# Given a list called my_list, you can iterate through it using the following code:\n",
        "my_list = [1, 2, 3, 4, 5]\n",
        "for element in my_list:\n",
        "  # do something with the element\n",
        "  print(element)\n",
        "# In each iteration of the loop, the variable element will take on the value of the next element in my_list."
      ],
      "metadata": {
        "colab": {
          "base_uri": "https://localhost:8080/"
        },
        "id": "njO_djvxIKHl",
        "outputId": "3c040144-5d7b-4845-ec93-803e01acc369"
      },
      "execution_count": null,
      "outputs": [
        {
          "output_type": "stream",
          "name": "stdout",
          "text": [
            "1\n",
            "2\n",
            "3\n",
            "4\n",
            "5\n"
          ]
        }
      ]
    },
    {
      "cell_type": "markdown",
      "source": [
        "5.Write a Python program to find the product of all elements in a list using a for loop.\n"
      ],
      "metadata": {
        "id": "iI3EsPTrIrkL"
      }
    },
    {
      "cell_type": "code",
      "source": [
        "pro=1\n",
        "for i in range(1,11):\n",
        "  pro*=i\n",
        "print(pro)"
      ],
      "metadata": {
        "colab": {
          "base_uri": "https://localhost:8080/"
        },
        "id": "7LmDOO4NI7qE",
        "outputId": "d7608965-7489-4b14-ff36-5fd95ad87173"
      },
      "execution_count": null,
      "outputs": [
        {
          "output_type": "stream",
          "name": "stdout",
          "text": [
            "3628800\n"
          ]
        }
      ]
    },
    {
      "cell_type": "markdown",
      "source": [
        "6.Create a Python program that prints all even numbers from 1 to 20 using a for loop.\n"
      ],
      "metadata": {
        "id": "t-P4Wd8DJJhV"
      }
    },
    {
      "cell_type": "code",
      "source": [
        "for i in range(1,21):\n",
        "  if i%2==0:\n",
        "    print(i, end=\" \")"
      ],
      "metadata": {
        "colab": {
          "base_uri": "https://localhost:8080/"
        },
        "id": "nmoRQKJMJNe8",
        "outputId": "454bc5ac-69ae-4c6d-da0d-63998d0e3ce3"
      },
      "execution_count": null,
      "outputs": [
        {
          "output_type": "stream",
          "name": "stdout",
          "text": [
            "2 4 6 8 10 12 14 16 18 20 "
          ]
        }
      ]
    },
    {
      "cell_type": "markdown",
      "source": [
        "7.Write a Python program that calculates the factorial of a number using a for loop.\n"
      ],
      "metadata": {
        "id": "6VqjQGg3JW_G"
      }
    },
    {
      "cell_type": "code",
      "source": [
        "fact=1\n",
        "num=int(input(\"Enter the number: \"))\n",
        "for i in range(1,num+1):\n",
        "  fact*=i\n",
        "print(fact)"
      ],
      "metadata": {
        "colab": {
          "base_uri": "https://localhost:8080/"
        },
        "id": "k1gmAk_CJdbz",
        "outputId": "58b3e9dc-1b8b-4053-dacc-52840b38c4aa"
      },
      "execution_count": null,
      "outputs": [
        {
          "output_type": "stream",
          "name": "stdout",
          "text": [
            "Enter the number: 5\n",
            "120\n"
          ]
        }
      ]
    },
    {
      "cell_type": "markdown",
      "source": [
        "8.How can you iterate through the characters of a string using a for loop in Python?"
      ],
      "metadata": {
        "id": "8Y3J0j97KTEK"
      }
    },
    {
      "cell_type": "code",
      "source": [
        "# Given a string called my_string, you can iterate through its characters using the following code:\n",
        "\n",
        "my_string = \"Hello, World!\"\n",
        "for char in my_string:\n",
        "  # do something with the character\n",
        "  print(char,end=\" \")\n",
        "\n",
        "# In each iteration of the loop, the variable char will take on the value of the next character in the string my_string."
      ],
      "metadata": {
        "colab": {
          "base_uri": "https://localhost:8080/"
        },
        "id": "Kzv3QXBeKciv",
        "outputId": "4ac22f7f-861a-4a60-b6c9-0876959d25dd"
      },
      "execution_count": null,
      "outputs": [
        {
          "output_type": "stream",
          "name": "stdout",
          "text": [
            "H e l l o ,   W o r l d ! "
          ]
        }
      ]
    },
    {
      "cell_type": "markdown",
      "source": [
        "9.Write a Python program to find the largest number in a list using a for loop.\n"
      ],
      "metadata": {
        "id": "XAg8p4faKxTn"
      }
    },
    {
      "cell_type": "code",
      "source": [
        "a=[1,2,3,4,5,6,7,8,9,10]\n",
        "max=0\n",
        "for i in a:\n",
        "  if i>max:\n",
        "    max=i\n",
        "print(max)\n"
      ],
      "metadata": {
        "colab": {
          "base_uri": "https://localhost:8080/"
        },
        "id": "AlPvnKbnK0wZ",
        "outputId": "1079c8a2-c63c-4688-d0e5-8e047f838049"
      },
      "execution_count": null,
      "outputs": [
        {
          "output_type": "stream",
          "name": "stdout",
          "text": [
            "10\n"
          ]
        }
      ]
    },
    {
      "cell_type": "markdown",
      "source": [
        "10.Create a Python program that prints the Fibonacci sequence up to a specified limit using a for loop."
      ],
      "metadata": {
        "id": "poGfS7MaLKYF"
      }
    },
    {
      "cell_type": "code",
      "source": [
        "num=int(input(\"Enter the number: \"))\n",
        "a=0\n",
        "b=1\n",
        "print(a,b,end=\" \")\n",
        "for i in range(2,num):\n",
        "  c=a+b\n",
        "  print(c,end=\" \")\n",
        "  a=b\n",
        "  b=c"
      ],
      "metadata": {
        "colab": {
          "base_uri": "https://localhost:8080/"
        },
        "id": "u5fsDyROLO9L",
        "outputId": "3afa804c-f51d-496e-9023-8be686a0dda5"
      },
      "execution_count": null,
      "outputs": [
        {
          "output_type": "stream",
          "name": "stdout",
          "text": [
            "Enter the number: 5\n",
            "0 1 1 2 3 "
          ]
        }
      ]
    },
    {
      "cell_type": "markdown",
      "source": [
        "11.Write a Python program to count the number of vowels in a given string using a for loop.\n"
      ],
      "metadata": {
        "id": "BqUVRFTsP6h6"
      }
    },
    {
      "cell_type": "code",
      "source": [
        "string=input(\"Enter the string: \")\n",
        "count=0\n",
        "for i in string:\n",
        "  if i=='a' or i=='e' or i=='i' or i=='o' or i=='u':\n",
        "    count+=1\n",
        "print(count)"
      ],
      "metadata": {
        "colab": {
          "base_uri": "https://localhost:8080/"
        },
        "id": "5muRvf42QBug",
        "outputId": "fcc8f52d-7630-4181-f160-26360a31611d"
      },
      "execution_count": null,
      "outputs": [
        {
          "output_type": "stream",
          "name": "stdout",
          "text": [
            "Enter the string: uday\n",
            "2\n"
          ]
        }
      ]
    },
    {
      "cell_type": "markdown",
      "source": [
        "12.Create a Python program that generates a multiplication table for a given number using a for loop."
      ],
      "metadata": {
        "id": "HHFXHpjyQG4a"
      }
    },
    {
      "cell_type": "code",
      "source": [
        "for i in range(1,11):\n",
        "  for j in range(1,11):\n",
        "    print(i*j,end=\" \")\n",
        "  print()"
      ],
      "metadata": {
        "colab": {
          "base_uri": "https://localhost:8080/"
        },
        "id": "ptaxlsR_QMmN",
        "outputId": "c7437455-1648-4ab1-ea7b-671e998669c0"
      },
      "execution_count": null,
      "outputs": [
        {
          "output_type": "stream",
          "name": "stdout",
          "text": [
            "1 2 3 4 5 6 7 8 9 10 \n",
            "2 4 6 8 10 12 14 16 18 20 \n",
            "3 6 9 12 15 18 21 24 27 30 \n",
            "4 8 12 16 20 24 28 32 36 40 \n",
            "5 10 15 20 25 30 35 40 45 50 \n",
            "6 12 18 24 30 36 42 48 54 60 \n",
            "7 14 21 28 35 42 49 56 63 70 \n",
            "8 16 24 32 40 48 56 64 72 80 \n",
            "9 18 27 36 45 54 63 72 81 90 \n",
            "10 20 30 40 50 60 70 80 90 100 \n"
          ]
        }
      ]
    },
    {
      "cell_type": "markdown",
      "source": [
        "13.Write a Python program to reverse a list using a for loop.\n"
      ],
      "metadata": {
        "id": "mBR42Zo0Qvqz"
      }
    },
    {
      "cell_type": "code",
      "source": [
        "lst=[1,2,3,4,5,6,7,8,9,10]\n",
        "for i in range(len(lst)//2):\n",
        "  (lst[i]),(lst[len(lst)-i-1])=(lst[len(lst)-i-1]),(lst[i])\n",
        "print(lst)"
      ],
      "metadata": {
        "colab": {
          "base_uri": "https://localhost:8080/"
        },
        "id": "DY6H3FZ9Q1Dk",
        "outputId": "47d3b6dd-dcab-4b40-e049-f925af0b6e92"
      },
      "execution_count": null,
      "outputs": [
        {
          "output_type": "stream",
          "name": "stdout",
          "text": [
            "[10, 9, 8, 7, 6, 5, 4, 3, 2, 1]\n"
          ]
        }
      ]
    },
    {
      "cell_type": "markdown",
      "source": [
        "14.Write a Python program to find the common elements between two lists using a for loop."
      ],
      "metadata": {
        "id": "vnqP-x4wRVD-"
      }
    },
    {
      "cell_type": "code",
      "source": [
        "lst1=[1,2,3,4,5,6,7]\n",
        "lst2=[2,3,4,5,6,8,9]\n",
        "for lst1 in lst2:\n",
        "  print(\"common\")\n",
        "  break\n",
        "else:\n",
        "  print(\"not common\")\n"
      ],
      "metadata": {
        "colab": {
          "base_uri": "https://localhost:8080/"
        },
        "id": "4Njp7tS2RaK0",
        "outputId": "9e1e8012-32b6-4e53-9df1-4b93390b3f36"
      },
      "execution_count": null,
      "outputs": [
        {
          "output_type": "stream",
          "name": "stdout",
          "text": [
            "common\n"
          ]
        }
      ]
    },
    {
      "cell_type": "markdown",
      "source": [
        "15.Explain how to use a for loop to iterate through the keys and values of a dictionary in Python.\n",
        "\n",
        "\n",
        "\n"
      ],
      "metadata": {
        "id": "7-wjO9CfS5DN"
      }
    },
    {
      "cell_type": "code",
      "source": [
        "# prompt: 15.Explain how to use a for loop to iterate through the keys and values of a dictionary in Python.\n",
        "\n",
        "my_dictionary = {'k1': 1, 'k2': 2, 'k3': 3}\n",
        "\n",
        "# Iterate through the keys\n",
        "for key in my_dictionary:\n",
        "    print(key)\n",
        "\n",
        "# Iterate through the values\n",
        "for value in my_dictionary.values():\n",
        "    print(value)\n",
        "\n",
        "# Iterate through the key-value pairs\n",
        "for key, value in my_dictionary.items():\n",
        "    print(key, value)\n"
      ],
      "metadata": {
        "colab": {
          "base_uri": "https://localhost:8080/"
        },
        "id": "VlGAoiu3TAA8",
        "outputId": "4215617e-f2bf-4947-fe51-4f4f88c2a2c4"
      },
      "execution_count": null,
      "outputs": [
        {
          "output_type": "stream",
          "name": "stdout",
          "text": [
            "k1\n",
            "k2\n",
            "k3\n",
            "1\n",
            "2\n",
            "3\n",
            "k1 1\n",
            "k2 2\n",
            "k3 3\n"
          ]
        }
      ]
    },
    {
      "cell_type": "markdown",
      "source": [
        "16.Write a Python program to find the GCD (Greatest Common Divisor) of two numbers using a for loop."
      ],
      "metadata": {
        "id": "0GNYtwHyYpdU"
      }
    },
    {
      "cell_type": "code",
      "source": [
        "# prompt: Write a Python program to find the GCD (Greatest Common Divisor) of two numbers using a for loop.\n",
        "\n",
        "def gcd(a, b):\n",
        "  for i in range(1, min(a, b) + 1):\n",
        "    if a % i == 0 and b % i == 0:\n",
        "      gcd = i\n",
        "  return gcd\n",
        "\n",
        "# Get the two numbers from the user\n",
        "a = int(input(\"Enter the first number: \"))\n",
        "b = int(input(\"Enter the second number: \"))\n",
        "\n",
        "# Find the GCD of the two numbers\n",
        "gcd = gcd(a, b)\n",
        "\n",
        "# Print the GCD of the two numbers\n",
        "print(\"The GCD of\", a, \"and\", b, \"is\", gcd)\n"
      ],
      "metadata": {
        "id": "bkkX5QS1Yxwg"
      },
      "execution_count": null,
      "outputs": []
    },
    {
      "cell_type": "markdown",
      "source": [
        "17.Create a Python program that checks if a string is a palindrome using a for loop."
      ],
      "metadata": {
        "id": "_9uS4T_da1Ey"
      }
    },
    {
      "cell_type": "code",
      "source": [
        "str1=\"sas\"\n",
        "for i in str1:\n",
        "  if str1==str1[::-1]:\n",
        "    print(\"palindrome\")\n",
        "    break\n",
        "  else:\n",
        "    print(\"not\")"
      ],
      "metadata": {
        "colab": {
          "base_uri": "https://localhost:8080/"
        },
        "id": "sCGn3_Nua9wa",
        "outputId": "2ab7adfb-2dbb-4a7c-994e-cce60f9b7f0d"
      },
      "execution_count": null,
      "outputs": [
        {
          "output_type": "stream",
          "name": "stdout",
          "text": [
            "palindrome\n"
          ]
        }
      ]
    },
    {
      "cell_type": "markdown",
      "source": [
        "18.Write a Python program to remove duplicates from a list using a for loop.\n"
      ],
      "metadata": {
        "id": "j3djgSBxdYmC"
      }
    },
    {
      "cell_type": "code",
      "source": [
        "lst=[1,2,3,3,4,5,7]\n",
        "lst1=[]\n",
        "for i in lst:\n",
        "  if i in lst1:\n",
        "    continue\n",
        "  else:\n",
        "    lst1.append(i)\n",
        "print(lst1)"
      ],
      "metadata": {
        "colab": {
          "base_uri": "https://localhost:8080/"
        },
        "id": "BRyTzPRSdpFN",
        "outputId": "31fe3175-1c80-4f3c-aa86-5415c9dc43b4"
      },
      "execution_count": null,
      "outputs": [
        {
          "output_type": "stream",
          "name": "stdout",
          "text": [
            "[1, 2, 3, 4, 5, 7]\n"
          ]
        }
      ]
    },
    {
      "cell_type": "markdown",
      "source": [
        "19.Create a Python program that counts the number of words in a sentence using a for loop."
      ],
      "metadata": {
        "id": "COaD3d_dd5-L"
      }
    },
    {
      "cell_type": "code",
      "source": [
        "a=\"i love india\"\n",
        "a=a.split(\" \")\n",
        "count=0\n",
        "for i in a:\n",
        "  count+=1\n",
        "print(count)"
      ],
      "metadata": {
        "colab": {
          "base_uri": "https://localhost:8080/"
        },
        "id": "wzL13xR0ekEi",
        "outputId": "db6d0729-3a51-417f-c0c3-2153affb1205"
      },
      "execution_count": null,
      "outputs": [
        {
          "output_type": "stream",
          "name": "stdout",
          "text": [
            "3\n"
          ]
        }
      ]
    },
    {
      "cell_type": "markdown",
      "source": [
        "20.Write a Python program to find the sum of all odd numbers from 1 to 50 using a for loop."
      ],
      "metadata": {
        "id": "cRgyoe9mfSgU"
      }
    },
    {
      "cell_type": "code",
      "source": [
        "sum=0\n",
        "for i in range(1,51):\n",
        "  if i%2!=0:\n",
        "    sum+=i\n",
        "print(sum)"
      ],
      "metadata": {
        "colab": {
          "base_uri": "https://localhost:8080/"
        },
        "id": "TQzO6rNifawG",
        "outputId": "1052fd7c-63cc-42ad-c0a4-1480111ea9e3"
      },
      "execution_count": null,
      "outputs": [
        {
          "output_type": "stream",
          "name": "stdout",
          "text": [
            "625\n"
          ]
        }
      ]
    },
    {
      "cell_type": "markdown",
      "source": [
        "21.Write a Python program that checks if a given year is a leap year using a for loop."
      ],
      "metadata": {
        "id": "U3Uq1gqMf8Mr"
      }
    },
    {
      "cell_type": "code",
      "source": [
        "year=int(input(\"Enter the year: \"))\n",
        "if year%4==0:\n",
        "  print(\"leap year\")\n",
        "else:\n",
        "  print(\"not leap year\")"
      ],
      "metadata": {
        "colab": {
          "base_uri": "https://localhost:8080/"
        },
        "id": "dgu_6VrighWk",
        "outputId": "81c3fc5b-b8e4-431e-ef16-7c1e8c3aa2a3"
      },
      "execution_count": null,
      "outputs": [
        {
          "output_type": "stream",
          "name": "stdout",
          "text": [
            "Enter the year: 2004\n",
            "leap year\n"
          ]
        }
      ]
    },
    {
      "cell_type": "markdown",
      "source": [
        "22.Create a Python program that calculates the square root of a number using a for loop."
      ],
      "metadata": {
        "id": "sUiBBHlnhrud"
      }
    },
    {
      "cell_type": "code",
      "source": [
        "num=int(input(\"Enter the numbr: \"))\n",
        "for i in range(1,num+1):\n",
        "  i**2\n",
        "print(i)"
      ],
      "metadata": {
        "colab": {
          "base_uri": "https://localhost:8080/"
        },
        "id": "qkWFuK3kiHHy",
        "outputId": "4f0788e6-9495-486c-8c89-2300f17d53a6"
      },
      "execution_count": null,
      "outputs": [
        {
          "output_type": "stream",
          "name": "stdout",
          "text": [
            "Enter the numbr: 3\n",
            "3\n"
          ]
        }
      ]
    },
    {
      "cell_type": "code",
      "source": [
        "# prompt: Create a Python program that calculates the square root of a number using a for loop.\n",
        "\n",
        "def square_root(number):\n",
        "  \"\"\"\n",
        "  This function calculates the square root of a number using a for loop.\n",
        "\n",
        "  Args:\n",
        "    number: The number to calculate the square root of.\n",
        "\n",
        "  Returns:\n",
        "    The square root of the number.\n",
        "  \"\"\"\n",
        "\n",
        "  # Initialize the guess to 1.\n",
        "  guess = 1\n",
        "\n",
        "  # Use a for loop to improve the guess.\n",
        "  for i in range(10):\n",
        "    # Calculate a new guess.\n",
        "    new_guess = (guess + number / guess) / 2\n",
        "\n",
        "    # Update the guess.\n",
        "    guess = new_guess\n",
        "\n",
        "  # Return the square root.\n",
        "  return guess\n",
        "\n",
        "# Get the number from the user.\n",
        "number = int(input(\"Enter a number: \"))\n",
        "\n",
        "# Calculate the square root of the number.\n",
        "square_root = square_root(number)\n",
        "\n",
        "# Print the square root of the number.\n",
        "print(\"The square root of\", number, \"is\", square_root)\n"
      ],
      "metadata": {
        "colab": {
          "base_uri": "https://localhost:8080/"
        },
        "id": "QWBSoX1piZ0A",
        "outputId": "1c1ee596-b431-4e35-e64d-6ce0cdb545b8"
      },
      "execution_count": null,
      "outputs": [
        {
          "output_type": "stream",
          "name": "stdout",
          "text": [
            "Enter a number: 5\n",
            "The square root of 5 is 2.23606797749979\n"
          ]
        }
      ]
    },
    {
      "cell_type": "markdown",
      "source": [],
      "metadata": {
        "id": "d2omT4yri7C0"
      }
    },
    {
      "cell_type": "markdown",
      "source": [
        "23.Write a Python program to find the LCM (Least Common Multiple) of two numbers using a for loop."
      ],
      "metadata": {
        "id": "QBUqneJgis7p"
      }
    },
    {
      "cell_type": "code",
      "source": [
        "# prompt: Write a Python program to find the LCM (Least Common Multiple) of two numbers using a for loop.\\\n",
        "\n",
        "def lcm(a, b):\n",
        "  \"\"\"\n",
        "  This function calculates the LCM (Least Common Multiple) of two numbers using a for loop.\n",
        "\n",
        "  Args:\n",
        "    a: The first number.\n",
        "    b: The second number.\n",
        "\n",
        "  Returns:\n",
        "    The LCM of the two numbers.\n",
        "  \"\"\"\n",
        "\n",
        "  # Initialize the LCM to the larger of the two numbers.\n",
        "  lcm = max(a, b)\n",
        "\n",
        "  # Use a for loop to find the LCM.\n",
        "  for i in range(2, min(a, b) + 1):\n",
        "    if lcm % i == 0 and b % i == 0:\n",
        "      lcm = lcm\n",
        "    else:\n",
        "      lcm = lcm * i\n",
        "\n",
        "  # Return the LCM.\n",
        "  return lcm\n",
        "\n",
        "# Get the two numbers from the user.\n",
        "a = int(input(\"Enter the first number: \"))\n",
        "b = int(input(\"Enter the second number: \"))\n",
        "\n",
        "# Calculate the LCM of the two numbers.\n",
        "lcm = lcm(a, b)\n",
        "\n",
        "# Print the LCM of the two numbers.\n",
        "print(\"The LCM of\", a, \"and\", b, \"is\", lcm)\n"
      ],
      "metadata": {
        "id": "ylJKQkfHiwOL"
      },
      "execution_count": null,
      "outputs": []
    },
    {
      "cell_type": "markdown",
      "source": [
        "# **If else** :"
      ],
      "metadata": {
        "id": "mhv_0XPIkaTg"
      }
    },
    {
      "cell_type": "markdown",
      "source": [
        "\n",
        "1.Write a Python program to check if a number is positive, negative, or zero using an if-else statement.\n"
      ],
      "metadata": {
        "id": "sm6H4J04klEb"
      }
    },
    {
      "cell_type": "code",
      "source": [
        "num=int(input(\"enter the number:\"))\n",
        "if num > 0:\n",
        "  print(\"positive\")\n",
        "elif num<0:\n",
        "  print(\"negative\")\n",
        "else:\n",
        "  print(\"zero\")"
      ],
      "metadata": {
        "colab": {
          "base_uri": "https://localhost:8080/"
        },
        "id": "fCZcadxNma7I",
        "outputId": "deb1dce6-9a06-46bd-f974-a634926638f8"
      },
      "execution_count": null,
      "outputs": [
        {
          "output_type": "stream",
          "name": "stdout",
          "text": [
            "enter the number:5\n",
            "positive\n"
          ]
        }
      ]
    },
    {
      "cell_type": "markdown",
      "source": [
        "2.Create a Python program that checks if a given number is even or odd using an if-else statement."
      ],
      "metadata": {
        "id": "xWTgJk9BmsAi"
      }
    },
    {
      "cell_type": "code",
      "source": [
        "num=int(input(\"enter the number:\"))\n",
        "if num%2==0:\n",
        "  print(\"even\")\n",
        "else:\n",
        "  print(\"odd\")"
      ],
      "metadata": {
        "colab": {
          "base_uri": "https://localhost:8080/"
        },
        "id": "dKZAEY5Kmxj4",
        "outputId": "f2881fab-cd6e-4e6e-81a9-54e6f4e446e6"
      },
      "execution_count": null,
      "outputs": [
        {
          "output_type": "stream",
          "name": "stdout",
          "text": [
            "enter the number:4\n",
            "even\n"
          ]
        }
      ]
    },
    {
      "cell_type": "markdown",
      "source": [
        "3.How can you use nested if-else statements in Python, and provide an example?"
      ],
      "metadata": {
        "id": "oD5FK2pDnA-p"
      }
    },
    {
      "cell_type": "code",
      "source": [
        "# prompt: How can you use nested if-else statements in Python, and provide an example?\n",
        "\n",
        "# Check if a number is positive, negative, or zero.\n",
        "# If it is positive, check if it is greater than 100.\n",
        "num = int(input(\"Enter a number: \"))\n",
        "\n",
        "if num > 0:\n",
        "  if num > 100:\n",
        "    print(\"The number is greater than 100.\")\n",
        "  else:\n",
        "    print(\"The number is positive, but not greater than 100.\")\n",
        "elif num < 0:\n",
        "  print(\"The number is negative.\")\n",
        "else:\n",
        "  print(\"The number is zero.\")\n"
      ],
      "metadata": {
        "colab": {
          "base_uri": "https://localhost:8080/"
        },
        "id": "nR-kYEnPnFgk",
        "outputId": "6d9617f5-fa40-4154-9e84-1fed6520adca"
      },
      "execution_count": null,
      "outputs": [
        {
          "output_type": "stream",
          "name": "stdout",
          "text": [
            "Enter a number: 5\n",
            "The number is positive, but not greater than 100.\n"
          ]
        }
      ]
    },
    {
      "cell_type": "markdown",
      "source": [
        "4.Write a Python program to determine the largest of three numbers using if-else"
      ],
      "metadata": {
        "id": "JiBnegGEoWm3"
      }
    },
    {
      "cell_type": "code",
      "source": [
        "num1=int(input(\"enter the number:\"))\n",
        "num2=int(input(\"enter the number:\"))\n",
        "num3=int(input(\"enter the number:\"))\n",
        "if num1>num2 and num1>num3:\n",
        "  print(\"num1 is largest\")\n",
        "elif num2>num1 and num2>num3:\n",
        "  print(\"num2 is largest\")\n",
        "else:\n",
        "  print(\"num3 is largest\")5"
      ],
      "metadata": {
        "colab": {
          "base_uri": "https://localhost:8080/"
        },
        "id": "dzny2wLyoeim",
        "outputId": "e5cb13d1-1e50-4266-bca7-2502789f944a"
      },
      "execution_count": null,
      "outputs": [
        {
          "output_type": "stream",
          "name": "stdout",
          "text": [
            "enter the number:5\n",
            "enter the number:4\n",
            "enter the number:3\n",
            "num1 is largest\n"
          ]
        }
      ]
    },
    {
      "cell_type": "markdown",
      "source": [
        "5.Write a Python program that calculates the absolute value of a number using if-else."
      ],
      "metadata": {
        "id": "v6JlRQ0aoknW"
      }
    },
    {
      "cell_type": "code",
      "source": [
        "# prompt: Write a Python program that calculates the absolute value of a number using if-else.\n",
        "\n",
        "def absolute_value(number):\n",
        "\n",
        "  if number >= 0:\n",
        "    return number\n",
        "  else:\n",
        "    return -number\n",
        "\n",
        "# Get the number from the user.\n",
        "number = float(input(\"Enter a number: \"))\n",
        "\n",
        "# Calculate the absolute value of the number.\n",
        "absolute_value = absolute_value(number)\n",
        "\n",
        "# Print the absolute value of the number.\n",
        "print(\"The absolute value of\", number, \"is\", absolute_value)\n"
      ],
      "metadata": {
        "colab": {
          "base_uri": "https://localhost:8080/"
        },
        "id": "MTfwqI-ioxs0",
        "outputId": "8414b06f-0718-4a12-b5fa-b158059d532e"
      },
      "execution_count": null,
      "outputs": [
        {
          "output_type": "stream",
          "name": "stdout",
          "text": [
            "Enter a number: 5.6\n",
            "The absolute value of 5.6 is 5.6\n"
          ]
        }
      ]
    },
    {
      "cell_type": "markdown",
      "source": [
        "6.Create a Python program that checks if a given character is a vowel or consonant using if-else."
      ],
      "metadata": {
        "id": "5Cqoh8cGo96o"
      }
    },
    {
      "cell_type": "code",
      "source": [
        "char=input(\"enter the character: \")\n",
        "if char=='a' or char=='e' or char=='i' or char=='o' or char=='u':\n",
        "  print(\"vowel\")\n",
        "else:\n",
        "  print(\"consonant\")"
      ],
      "metadata": {
        "colab": {
          "base_uri": "https://localhost:8080/"
        },
        "id": "-5vi50mrpEih",
        "outputId": "3aba3699-def0-4698-e6d7-9ae28683962c"
      },
      "execution_count": null,
      "outputs": [
        {
          "output_type": "stream",
          "name": "stdout",
          "text": [
            "enter the character: y\n",
            "consonant\n"
          ]
        }
      ]
    },
    {
      "cell_type": "markdown",
      "source": [
        "7.Write a Python program to determine if a user is eligible to vote based on their age using if-else."
      ],
      "metadata": {
        "id": "rebp0jHHpK16"
      }
    },
    {
      "cell_type": "code",
      "source": [
        "age=int(input(\"enter the age: \"))\n",
        "if age>=18:\n",
        "  print(\"eligible\")\n",
        "else:\n",
        "  print(\"not eligible\")"
      ],
      "metadata": {
        "colab": {
          "base_uri": "https://localhost:8080/"
        },
        "id": "fctfdZPKpO2L",
        "outputId": "72ae04da-33c6-40e6-e7c9-8821fb70211f"
      },
      "execution_count": null,
      "outputs": [
        {
          "output_type": "stream",
          "name": "stdout",
          "text": [
            "enter the age: 6\n",
            "not eligible\n"
          ]
        }
      ]
    },
    {
      "cell_type": "markdown",
      "source": [
        "8.Create a Python program that calculates the discount amount based on the purchase amount using if-else."
      ],
      "metadata": {
        "id": "kWBKrTcIpUF4"
      }
    },
    {
      "cell_type": "code",
      "source": [
        "\n",
        "\n",
        "def calculate_discount(purchase_amount):\n",
        "\n",
        "\n",
        "  # Check if the purchase amount is greater than or equal to $100.\n",
        "  if purchase_amount >= 100:\n",
        "    # Calculate the discount amount (10% of the purchase amount).\n",
        "    discount_amount = purchase_amount * 0.10\n",
        "  else:\n",
        "    # Calculate the discount amount (5% of the purchase amount).\n",
        "    discount_amount = purchase_amount * 0.05\n",
        "\n",
        "  # Return the discount amount.\n",
        "  return discount_amount\n",
        "\n",
        "# Get the purchase amount from the user.\n",
        "purchase_amount = float(input(\"Enter the purchase amount: \"))\n",
        "\n",
        "# Calculate the discount amount.\n",
        "discount_amount = calculate_discount(purchase_amount)\n",
        "\n",
        "# Print the discount amount.\n",
        "print(\"The discount amount is\", discount_amount)\n"
      ],
      "metadata": {
        "colab": {
          "base_uri": "https://localhost:8080/"
        },
        "id": "_rJ8_GsSpY8O",
        "outputId": "0452177d-dd4f-4afb-bb9f-9a5a0680e44e"
      },
      "execution_count": null,
      "outputs": [
        {
          "name": "stdout",
          "output_type": "stream",
          "text": [
            "enter the amount: 566\n"
          ]
        }
      ]
    },
    {
      "cell_type": "markdown",
      "source": [
        "9.Write a Python program to check if a number is within a specified range using if-else.\n"
      ],
      "metadata": {
        "id": "_jRoqlAfp0QN"
      }
    },
    {
      "cell_type": "code",
      "source": [
        "num=int(input(\"enter the number: \"))\n",
        "if num in range(1,10):\n",
        "  print(\"yes\")"
      ],
      "metadata": {
        "colab": {
          "base_uri": "https://localhost:8080/"
        },
        "id": "g2dhMyngp7IL",
        "outputId": "4c4815a7-5323-41e3-e2b4-9333dfe96af0"
      },
      "execution_count": null,
      "outputs": [
        {
          "output_type": "stream",
          "name": "stdout",
          "text": [
            "enter the number: 5\n",
            "yes\n"
          ]
        }
      ]
    },
    {
      "cell_type": "markdown",
      "source": [
        "10.Create a Python program that determines the grade of a student based on their score using if-else."
      ],
      "metadata": {
        "id": "SD2Eum1xqCuS"
      }
    },
    {
      "cell_type": "code",
      "source": [
        "score=int(input(\"Enter the score\"))\n",
        "if score>=90:\n",
        "  print(\"A\")\n",
        "elif score>=80:\n",
        "  print(\"B\")\n",
        "elif score>=70:\n",
        "  print(\"C\")\n",
        "elif score>=60:\n",
        "  print(\"D\")\n",
        "else:\n",
        "  print(\"F\")"
      ],
      "metadata": {
        "colab": {
          "base_uri": "https://localhost:8080/"
        },
        "id": "SOBPRuqnqIFe",
        "outputId": "6c078035-9444-42fd-d3e1-afdcdb5969b9"
      },
      "execution_count": null,
      "outputs": [
        {
          "output_type": "stream",
          "name": "stdout",
          "text": [
            "Enter the score55\n",
            "F\n"
          ]
        }
      ]
    },
    {
      "cell_type": "markdown",
      "source": [
        "11.Write a Python program to check if a string is empty or not using if-else."
      ],
      "metadata": {
        "id": "I0xXjH5hqTum"
      }
    },
    {
      "cell_type": "code",
      "source": [
        "str1=\"uday\"\n",
        "if str1 is None:\n",
        "  print(\"empty\")\n",
        "else:\n",
        "  print(\"not empty\")"
      ],
      "metadata": {
        "id": "wFbnVuyqqYSs",
        "colab": {
          "base_uri": "https://localhost:8080/"
        },
        "outputId": "29a55349-494d-4f22-ac13-7a7bbe10eefa"
      },
      "execution_count": null,
      "outputs": [
        {
          "output_type": "stream",
          "name": "stdout",
          "text": [
            "not empty\n"
          ]
        }
      ]
    },
    {
      "cell_type": "markdown",
      "source": [
        "12.Create a Python program that identifies the type of a triangle (e.g., equilateral, isosceles, or scalene) based on input values using if-else."
      ],
      "metadata": {
        "id": "SIxJbbaqB11O"
      }
    },
    {
      "cell_type": "code",
      "source": [
        "ang1=int(input(\"enter the angle: \"))\n",
        "ang2=int(input(\"enter the angle: \"))\n",
        "ang3=int(input(\"enter the angle: \"))\n",
        "if ang1==ang2==ang3:\n",
        "  print(\"equilateral\")\n",
        "elif ang1 or ang2 or ang3==90:\n",
        "  print(\"isosceles\")\n",
        "else:\n",
        "  print(\"scalene\")"
      ],
      "metadata": {
        "colab": {
          "base_uri": "https://localhost:8080/"
        },
        "id": "3qoRU7L7EV9y",
        "outputId": "25e83d82-e99c-41cc-d34c-6dcb44136670"
      },
      "execution_count": null,
      "outputs": [
        {
          "output_type": "stream",
          "name": "stdout",
          "text": [
            "enter the angle: 45\n",
            "enter the angle: 45\n",
            "enter the angle: 45\n",
            "equilateral\n"
          ]
        }
      ]
    },
    {
      "cell_type": "markdown",
      "source": [
        "13.Write a Python program to determine the day of the week based on a user-provided number using if-else."
      ],
      "metadata": {
        "id": "TfMyXfBJNQNW"
      }
    },
    {
      "cell_type": "code",
      "source": [
        "day=int(input(\"enter the day: \"))\n",
        "if day==1:\n",
        "  print(\"monday\")\n",
        "elif day==2:\n",
        "  print(\"tuesday\")\n",
        "elif day==3:\n",
        "  print(\"wednesday\")\n",
        "elif day==4:\n",
        "  print(\"thursday\")\n",
        "elif day==5:\n",
        "  print(\"friday\")\n",
        "elif day==6:\n",
        "  print(\"saturday\")\n",
        "elif day==7:\n",
        "  print(\"sunday\")"
      ],
      "metadata": {
        "colab": {
          "base_uri": "https://localhost:8080/"
        },
        "id": "M8DjS62tNU3D",
        "outputId": "fc211d3d-2db5-4bc1-8261-b516f9a46f95"
      },
      "execution_count": null,
      "outputs": [
        {
          "output_type": "stream",
          "name": "stdout",
          "text": [
            "enter the day: 5\n",
            "friday\n"
          ]
        }
      ]
    },
    {
      "cell_type": "markdown",
      "source": [
        "14.Create a Python program that checks if a given year is a leap year using both if-else and a function."
      ],
      "metadata": {
        "id": "avIg2k3LNhr4"
      }
    },
    {
      "cell_type": "code",
      "source": [
        "def leap(year):\n",
        "  if year%4==0:\n",
        "    print(\"leap year\")\n",
        "  else:\n",
        "    print(\"not leap year\")\n",
        "year=int(input(\"enter the year: \"))\n",
        "leap(year)"
      ],
      "metadata": {
        "colab": {
          "base_uri": "https://localhost:8080/"
        },
        "id": "oSz65U48Nngj",
        "outputId": "f863377c-5cf3-4ac4-eaf3-ebe0cfbfcb52"
      },
      "execution_count": null,
      "outputs": [
        {
          "output_type": "stream",
          "name": "stdout",
          "text": [
            "enter the year: 3003\n",
            "not leap year\n"
          ]
        }
      ]
    },
    {
      "cell_type": "markdown",
      "source": [
        "15.How do you use the \"assert\" statement in Python to add debugging checks within if-else blocks?"
      ],
      "metadata": {
        "id": "4zAcCcJsNvor"
      }
    },
    {
      "cell_type": "code",
      "source": [
        "# prompt: How do you use the \"assert\" statement in Python to add debugging checks within if-else blocks?\n",
        "\n",
        "def check_age(age):\n",
        "\n",
        "\n",
        "  # Add a debugging check to ensure that the age is a positive integer.\n",
        "  assert isinstance(age, int) and age > 0, \"Age must be a positive integer.\"\n",
        "\n",
        "  # Check if the age is valid.\n",
        "  if age >= 18:\n",
        "    return True\n",
        "  else:\n",
        "    return False\n",
        "\n",
        "# Get the age from the user.\n",
        "age = int(input(\"Enter your age: \"))\n",
        "\n",
        "# Check if the age is valid.\n",
        "if check_age(age):\n",
        "  print(\"You are old enough to vote.\")\n",
        "else:\n",
        "  print(\"You are not old enough to vote.\")\n"
      ],
      "metadata": {
        "colab": {
          "base_uri": "https://localhost:8080/"
        },
        "id": "XK7t-w3zN24w",
        "outputId": "26b58bfd-9f6e-4035-8363-a9d9718541a9"
      },
      "execution_count": null,
      "outputs": [
        {
          "output_type": "stream",
          "name": "stdout",
          "text": [
            "Enter your age: 67\n",
            "You are old enough to vote.\n"
          ]
        }
      ]
    },
    {
      "cell_type": "markdown",
      "source": [
        "16.Create a Python program that determines the eligibility of a person for a senior citizen discount based on age using if-else."
      ],
      "metadata": {
        "id": "V2pJZeWkOlTE"
      }
    },
    {
      "cell_type": "code",
      "source": [
        "# prompt: Create a Python program that determines the eligibility of a person for a senior citizen discount based on age using if-else.\n",
        "\n",
        "def is_eligible_for_senior_discount(age):\n",
        "  \"\"\"\n",
        "  This function determines the eligibility of a person for a senior citizen discount based on age.\n",
        "\n",
        "  Args:\n",
        "    age: The age of the person.\n",
        "\n",
        "  Returns:\n",
        "    True if the person is eligible for a senior citizen discount, False otherwise.\n",
        "  \"\"\"\n",
        "\n",
        "  # Check if the age is greater than or equal to 65.\n",
        "  if age >= 65:\n",
        "    return True\n",
        "  else:\n",
        "    return False\n",
        "\n",
        "# Get the age from the user.\n",
        "age = int(input(\"Enter your age: \"))\n",
        "\n",
        "# Check if the person is eligible for a senior citizen discount.\n",
        "if is_eligible_for_senior_discount(age):\n",
        "  print(\"You are eligible for a senior citizen discount.\")\n",
        "else:\n",
        "  print(\"You are not eligible for a senior citizen discount.\")\n"
      ],
      "metadata": {
        "colab": {
          "base_uri": "https://localhost:8080/"
        },
        "id": "wePVHtDeQcYf",
        "outputId": "8491d1c2-2170-486c-8a50-66710b4d32e4"
      },
      "execution_count": null,
      "outputs": [
        {
          "output_type": "stream",
          "name": "stdout",
          "text": [
            "Enter your age: 67\n",
            "You are eligible for a senior citizen discount.\n"
          ]
        }
      ]
    },
    {
      "cell_type": "markdown",
      "source": [
        "17.Write a Python program to categorize a given character as uppercase, lowercase, or neither using if-else."
      ],
      "metadata": {
        "id": "Ojp3stfhUVrr"
      }
    },
    {
      "cell_type": "code",
      "source": [
        "ch=input(\"enter the character: \")\n",
        "if ch.isupper():\n",
        "  print(\"uppercase\")\n",
        "elif ch.islower():\n",
        "  print(\"lowercase\")\n",
        "else:\n",
        "  print(\"neither\")"
      ],
      "metadata": {
        "colab": {
          "base_uri": "https://localhost:8080/"
        },
        "id": "3cx1Vpm2UifS",
        "outputId": "945b0d2d-ee76-4c8d-cc77-03016edb3087"
      },
      "execution_count": null,
      "outputs": [
        {
          "output_type": "stream",
          "name": "stdout",
          "text": [
            "enter the character: u\n",
            "lowercase\n"
          ]
        }
      ]
    },
    {
      "cell_type": "markdown",
      "source": [
        "18.Write a Python program to determine the roots of a quadratic equation using if-else."
      ],
      "metadata": {
        "id": "hHL_RlxxUqbK"
      }
    },
    {
      "cell_type": "code",
      "source": [
        "a=int(input(\"enter the value of a: \"))\n",
        "b=int(input(\"enter the value of b: \"))\n",
        "c=int(input(\"enter the value of c: \"))\n",
        "d=b**2-4*a*c\n",
        "if d>0:\n",
        "  print(\"roots are real and different\")\n",
        "elif d==0:\n",
        "  print(\"roots are real and equal\")\n",
        "else:\n",
        "  print(\"roots are imaginary\")"
      ],
      "metadata": {
        "colab": {
          "base_uri": "https://localhost:8080/"
        },
        "id": "Xmfw7hF3UqKQ",
        "outputId": "b93e79e9-c331-4d79-ba16-2dce8724b00c"
      },
      "execution_count": null,
      "outputs": [
        {
          "output_type": "stream",
          "name": "stdout",
          "text": [
            "enter the value of a: 45\n",
            "enter the value of b: 5\n",
            "enter the value of c: 4\n",
            "roots are imaginary\n"
          ]
        }
      ]
    },
    {
      "cell_type": "markdown",
      "source": [
        "19.Create a Python program that checks if a given year is a century year or not using if-else."
      ],
      "metadata": {
        "id": "bUnaDgm2VK1f"
      }
    },
    {
      "cell_type": "code",
      "source": [
        "year=int(input(\"enter the year: \"))\n",
        "if year%400==0 or year%100!=0 and year%4==0:\n",
        "  print(\"century year\")\n",
        "else:\n",
        "  print(\"not century year\")"
      ],
      "metadata": {
        "colab": {
          "base_uri": "https://localhost:8080/"
        },
        "id": "4KEtRHv5VWjl",
        "outputId": "c4dd737f-71a1-4cbf-d1b6-015258c69a47"
      },
      "execution_count": null,
      "outputs": [
        {
          "output_type": "stream",
          "name": "stdout",
          "text": [
            "enter the year: 2000\n",
            "century year\n"
          ]
        }
      ]
    },
    {
      "cell_type": "markdown",
      "source": [
        "20.Write a Python program to determine if a given number is a perfect square using if-else."
      ],
      "metadata": {
        "id": "bB-0c4DdVgY4"
      }
    },
    {
      "cell_type": "code",
      "source": [
        "num=int(input(\"enter the number: \"))\n",
        "if num**0.5==int(num**0.5):\n",
        "  print(\"perfect square\")\n",
        "else:\n",
        "  print(\"not perfect square\")"
      ],
      "metadata": {
        "colab": {
          "base_uri": "https://localhost:8080/"
        },
        "id": "LEGjDcJrVfoX",
        "outputId": "d9f8b0af-271e-4020-c19c-2532243070bb"
      },
      "execution_count": null,
      "outputs": [
        {
          "output_type": "stream",
          "name": "stdout",
          "text": [
            "enter the number: 64\n",
            "perfect square\n"
          ]
        }
      ]
    },
    {
      "cell_type": "markdown",
      "source": [
        "21.Explain the purpose of the \"continue\" and \"break\" statements within if-else loops."
      ],
      "metadata": {
        "id": "DQdCHk1kVzYw"
      }
    },
    {
      "cell_type": "code",
      "source": [
        "# continue: When encountered inside a loop, the continue statement immediately skips\n",
        "# to the next iteration of the loop, bypassing any remaining code within the current iteration.\n",
        "\n",
        "# break: When encountered inside a loop, the break statement immediately terminates the loop entirely,\n",
        "# and execution continues with the code following the loop"
      ],
      "metadata": {
        "id": "NZ2t22n2V5Ju"
      },
      "execution_count": null,
      "outputs": []
    },
    {
      "cell_type": "markdown",
      "source": [
        "22.Create a Python program that calculates the BMI (Body Mass Index) of a person based on their weight and height using if-else."
      ],
      "metadata": {
        "id": "Ow8UHohFWRN_"
      }
    },
    {
      "cell_type": "code",
      "source": [
        "# prompt: Create a Python program that calculates the BMI (Body Mass Index) of a person based on their weight and height using if-else.\n",
        "\n",
        "# Get the weight and height from the user.\n",
        "weight = float(input(\"Enter your weight in kilograms: \"))\n",
        "height = float(input(\"Enter your height in meters: \"))\n",
        "\n",
        "# Calculate the BMI.\n",
        "bmi = weight / (height ** 2)\n",
        "\n",
        "# Print the BMI category.\n",
        "if bmi < 18.5:\n",
        "  print(\"Underweight\")\n",
        "elif bmi >= 18.5 and bmi < 25:\n",
        "  print(\"Normal weight\")\n",
        "elif bmi >= 25 and bmi < 30:\n",
        "  print(\"Overweight\")\n",
        "else:\n",
        "  print(\"Obese\")\n"
      ],
      "metadata": {
        "colab": {
          "base_uri": "https://localhost:8080/"
        },
        "id": "PXPUyT6AWXX3",
        "outputId": "8dbbf7f3-e45e-47d1-ac90-6e7fb6f6c576"
      },
      "execution_count": null,
      "outputs": [
        {
          "output_type": "stream",
          "name": "stdout",
          "text": [
            "Enter your weight in kilograms: 50\n",
            "Enter your height in meters: 1.70688\n",
            "Underweight\n"
          ]
        }
      ]
    },
    {
      "cell_type": "markdown",
      "source": [
        "23.How can you use the \"filter()\" function with if-else statements to filter elements from a list?"
      ],
      "metadata": {
        "id": "FWBRZXItW7pp"
      }
    },
    {
      "cell_type": "code",
      "source": [
        "# Define a function that returns True if a number is even, and False otherwise.\n",
        "def is_even(number):\n",
        "  if number % 2 == 0:\n",
        "    return True\n",
        "  else:\n",
        "    return False\n",
        "\n",
        "# Create a list of numbers.\n",
        "numbers = [1, 2, 3, 4, 5, 6]\n",
        "\n",
        "# Use the filter() function to filter the list of numbers, keeping only the even numbers.\n",
        "even_numbers = filter(is_even, numbers)\n",
        "\n",
        "# Convert the filter object to a list.\n",
        "even_numbers_list = list(even_numbers)\n",
        "\n",
        "# Print the list of even numbers.\n",
        "print(even_numbers_list)  # Output: [2, 4, 6]"
      ],
      "metadata": {
        "colab": {
          "base_uri": "https://localhost:8080/"
        },
        "id": "vrOEGU4RXCff",
        "outputId": "fa0ebcb3-4070-4637-c1f1-b8e084531eb4"
      },
      "execution_count": null,
      "outputs": [
        {
          "output_type": "stream",
          "name": "stdout",
          "text": [
            "[2, 4, 6]\n"
          ]
        }
      ]
    },
    {
      "cell_type": "code",
      "source": [],
      "metadata": {
        "id": "kZi8vFIuXgjk"
      },
      "execution_count": null,
      "outputs": []
    },
    {
      "cell_type": "markdown",
      "source": [
        "24.Write a Python program to determine if a given number is prime or not using if-else."
      ],
      "metadata": {
        "id": "5FrepXjlYygD"
      }
    },
    {
      "cell_type": "code",
      "source": [
        "# prompt: Write a Python program to determine if a given number is prime or not using if-else.\n",
        "\n",
        "def is_prime(number):\n",
        "  \"\"\"\n",
        "  This function determines if a given number is prime or not using if-else.\n",
        "\n",
        "  Args:\n",
        "    number: The number to check.\n",
        "\n",
        "  Returns:\n",
        "    True if the number is prime, False otherwise.\n",
        "  \"\"\"\n",
        "\n",
        "  # Check if the number is less than or equal to 1.\n",
        "  if number <= 1:\n",
        "    return False\n",
        "\n",
        "  # Check if the number is divisible by any number other than 1 and itself.\n",
        "  for i in range(2, int(number**0.5) + 1):\n",
        "    if number % i == 0:\n",
        "      return False\n",
        "\n",
        "  # If the number is not divisible by any number other than 1 and itself, it is prime.\n",
        "  return True\n",
        "\n",
        "# Get the number from the user.\n",
        "number = int(input(\"Enter a number: \"))\n",
        "\n",
        "# Check if the number is prime.\n",
        "if is_prime(number):\n",
        "  print(f\"{number} is a prime number.\")\n",
        "else:\n",
        "  print(f\"{number} is not a prime number.\")\n"
      ],
      "metadata": {
        "colab": {
          "base_uri": "https://localhost:8080/"
        },
        "id": "jCNm_7d3Y6Y6",
        "outputId": "77fe4ab1-c80e-4b07-8988-1355b1c475cc"
      },
      "execution_count": null,
      "outputs": [
        {
          "output_type": "stream",
          "name": "stdout",
          "text": [
            "Enter a number: 4\n",
            "4 is not a prime number.\n"
          ]
        }
      ]
    },
    {
      "cell_type": "markdown",
      "source": [
        "# **Map :-**"
      ],
      "metadata": {
        "id": "VFAUXWJFeBxl"
      }
    },
    {
      "cell_type": "markdown",
      "source": [
        "Explain the purpose of the `map()` function in Python and provide an example of how it can be used to apply a function to each element of an iterable."
      ],
      "metadata": {
        "id": "oZ8iqquyeerM"
      }
    },
    {
      "cell_type": "code",
      "source": [
        "# The map() function in Python applies a given function to each item of an iterable (like a list, tuple, etc.)\n",
        "# and returns an iterator of the results.\n",
        "def square(n):\n",
        "  return n * n\n",
        "\n",
        "numbers = [1, 2, 3, 4, 5]\n",
        "squared_numbers = map(square, numbers)\n",
        "\n",
        "# Convert the iterator to a list to see the results\n",
        "print(list(squared_numbers))  # Output: [1, 4, 9, 16, 25]\n"
      ],
      "metadata": {
        "colab": {
          "base_uri": "https://localhost:8080/"
        },
        "id": "5l2V5_ZVghit",
        "outputId": "d559c0bf-7a4e-4bd8-94b5-c603e3cf49f8"
      },
      "execution_count": null,
      "outputs": [
        {
          "output_type": "stream",
          "name": "stdout",
          "text": [
            "[1, 4, 9, 16, 25]\n"
          ]
        }
      ]
    },
    {
      "cell_type": "markdown",
      "source": [
        "Write a Python program that uses the `map()` function to square each element of a list of numbers"
      ],
      "metadata": {
        "id": "leWHaCpJg8ka"
      }
    },
    {
      "cell_type": "code",
      "source": [
        "def square(n):\n",
        "  return n * n\n",
        "\n",
        "numbers = [1, 2, 3, 4, 5]\n",
        "squared_numbers = map(square, numbers)\n",
        "\n",
        "# Convert the iterator to a list to see the results\n",
        "print(list(squared_numbers))  # Output: [1, 4, 9, 16, 25]"
      ],
      "metadata": {
        "colab": {
          "base_uri": "https://localhost:8080/"
        },
        "id": "8gZhxExzhA3Z",
        "outputId": "43078d43-53a3-4a9a-8a13-31ac8c87ea3a"
      },
      "execution_count": null,
      "outputs": [
        {
          "output_type": "stream",
          "name": "stdout",
          "text": [
            "[1, 4, 9, 16, 25]\n"
          ]
        }
      ]
    },
    {
      "cell_type": "markdown",
      "source": [
        "How does the `map()` function differ from a list comprehension in Python, and when would you choose one over the other?"
      ],
      "metadata": {
        "id": "RjJaczwx2rQt"
      }
    },
    {
      "cell_type": "code",
      "source": [
        "# List comprehension is more concise and easier to read as compared to map. List comprehension are used when a list of results\n",
        "# is required as map only returns a map object and does not return any list. Map is faster in case of calling an already\n",
        "# defined function (as no lambda is required)."
      ],
      "metadata": {
        "id": "GjlvIHCv5WyQ"
      },
      "execution_count": null,
      "outputs": []
    },
    {
      "cell_type": "markdown",
      "source": [
        "Create a Python program that uses the `map()` function to convert a list of names to uppercase."
      ],
      "metadata": {
        "id": "7aVXEGKb5nEs"
      }
    },
    {
      "cell_type": "code",
      "source": [
        "def upper(data):\n",
        "  data=data.upper()\n",
        "  return data\n",
        "\n",
        "\n",
        "result=map(upper,['uday'])\n",
        "print(list(result))"
      ],
      "metadata": {
        "colab": {
          "base_uri": "https://localhost:8080/"
        },
        "id": "4Kaf755u5yM-",
        "outputId": "3669cde9-fb07-401b-b057-6b042af3bfb3"
      },
      "execution_count": null,
      "outputs": [
        {
          "output_type": "stream",
          "name": "stdout",
          "text": [
            "['UDAY']\n"
          ]
        }
      ]
    },
    {
      "cell_type": "markdown",
      "source": [
        "Write a Python program that uses the `map()` function to calculate the length of each word in a list of strings."
      ],
      "metadata": {
        "id": "ZU2ed6s76RWJ"
      }
    },
    {
      "cell_type": "code",
      "source": [
        "def count(data):\n",
        "  return len(data)\n",
        "a=map(count,['uday','kumar'])\n",
        "print(list(a))"
      ],
      "metadata": {
        "colab": {
          "base_uri": "https://localhost:8080/"
        },
        "id": "X1MHzg4I6q65",
        "outputId": "deb54310-3bd0-4457-996b-28e60c4b93d6"
      },
      "execution_count": null,
      "outputs": [
        {
          "output_type": "stream",
          "name": "stdout",
          "text": [
            "[4, 5]\n"
          ]
        }
      ]
    },
    {
      "cell_type": "markdown",
      "source": [
        "How can you use the `map()` function to apply a custom function to elements of multiple lists simultaneously in Python?"
      ],
      "metadata": {
        "id": "IHc-KhRF7La1"
      }
    },
    {
      "cell_type": "code",
      "source": [
        "# The map() function in Python can be used to apply a custom function to elements of multiple lists simultaneously.\n",
        "# This can be done by passing the custom function and the lists as arguments to map(). The custom function should be\n",
        "# designed to accept multiple arguments corresponding to the number of lists being passed.\n",
        "\n",
        "# Here's an example to illustrate this:\n",
        "\n",
        "# Define a custom function that takes multiple arguments.\n",
        "# Use map() to apply this function to the elements of the lists.\n",
        "# Convert the result to a list (or another iterable) if needed."
      ],
      "metadata": {
        "id": "bwUsV_tD7QF1"
      },
      "execution_count": null,
      "outputs": []
    },
    {
      "cell_type": "markdown",
      "source": [
        "Create a Python program that uses `map()` to convert a list of temperatures from Celsius to Fahrenheit."
      ],
      "metadata": {
        "id": "7AQST_n170tc"
      }
    },
    {
      "cell_type": "code",
      "source": [
        "def temp(data):\n",
        "  return (data*9/5)+32\n",
        "a=map(temp,[1,2,3])\n",
        "print(list(a))"
      ],
      "metadata": {
        "colab": {
          "base_uri": "https://localhost:8080/"
        },
        "id": "ZP7aS88h73zH",
        "outputId": "553c6808-8e3d-4263-e325-01102a84f7bb"
      },
      "execution_count": null,
      "outputs": [
        {
          "output_type": "stream",
          "name": "stdout",
          "text": [
            "[33.8, 35.6, 37.4]\n"
          ]
        }
      ]
    },
    {
      "cell_type": "markdown",
      "source": [
        "Write a Python program that uses the `map()` function to round each element of a list of floating-point numbers to the nearest integer."
      ],
      "metadata": {
        "id": "JjEfEvbf8Ijd"
      }
    },
    {
      "cell_type": "code",
      "source": [
        "import builtins\n",
        "def round_numbers(data): # Change function name to avoid conflict with built-in 'round'\n",
        "  return builtins.round(data) # Explicitly call the built-in 'round' function from 'builtins' module\n",
        "a=map(round_numbers,[1.2,2.3,3.4])\n",
        "print(list(a))"
      ],
      "metadata": {
        "colab": {
          "base_uri": "https://localhost:8080/"
        },
        "id": "y68CeNHW8RMA",
        "outputId": "e06f4832-bcf1-428b-ee85-4385121b28ac"
      },
      "execution_count": null,
      "outputs": [
        {
          "output_type": "stream",
          "name": "stdout",
          "text": [
            "[1, 2, 3]\n"
          ]
        }
      ]
    },
    {
      "cell_type": "markdown",
      "source": [
        "# Filter :"
      ],
      "metadata": {
        "id": "523tTwdD9NoN"
      }
    },
    {
      "cell_type": "markdown",
      "source": [
        "Explain the purpose of the `filter()` function in Python and provide an example of how it can be used to filter elements from an iterable."
      ],
      "metadata": {
        "id": "D2E_cy02_OJL"
      }
    },
    {
      "cell_type": "code",
      "source": [
        "# The `filter()` function in Python creates an iterator of elements from an iterable for which a specified function returns `True`. For example,\n",
        "# `even_numbers = filter(lambda x: x % 2 == 0, [1, 2, 3, 4, 5])` filters out even numbers, resulting in `[2, 4]` when converted to a list."
      ],
      "metadata": {
        "id": "xzPOQPRh-sOr"
      },
      "execution_count": null,
      "outputs": []
    },
    {
      "cell_type": "markdown",
      "source": [
        "Write a Python program that uses the `filter()` function to select even numbers from a list of integers."
      ],
      "metadata": {
        "id": "ju67Iesb_16f"
      }
    },
    {
      "cell_type": "code",
      "source": [
        "def even(data):\n",
        "  if data%2==0:\n",
        "    return True\n",
        "a=filter(even,[1,2,3,4,5])\n",
        "print(list(a))"
      ],
      "metadata": {
        "colab": {
          "base_uri": "https://localhost:8080/"
        },
        "id": "bBaCvsBH_6uc",
        "outputId": "46bf882a-ae78-42e8-b80f-98b0efc4dc61"
      },
      "execution_count": null,
      "outputs": [
        {
          "output_type": "stream",
          "name": "stdout",
          "text": [
            "[2, 4]\n"
          ]
        }
      ]
    },
    {
      "cell_type": "markdown",
      "source": [
        "Create a Python program that uses the `filter()` function to select names that start with a specific letter from a list of strings."
      ],
      "metadata": {
        "id": "ETc2-GpIACfW"
      }
    },
    {
      "cell_type": "code",
      "source": [
        "def start(data):\n",
        "  if data[0]=='a':\n",
        "    return True\n",
        "a=filter(start,['aday','kumar'])\n",
        "print(list(a))"
      ],
      "metadata": {
        "colab": {
          "base_uri": "https://localhost:8080/"
        },
        "id": "VWuNVBtgAH6q",
        "outputId": "2030630a-31c9-4d0a-96ee-a1ef8cd0fbb3"
      },
      "execution_count": null,
      "outputs": [
        {
          "output_type": "stream",
          "name": "stdout",
          "text": [
            "['aday']\n"
          ]
        }
      ]
    },
    {
      "cell_type": "markdown",
      "source": [
        "Write a Python program that uses the `filter()` function to select prime numbers from a list of integers."
      ],
      "metadata": {
        "id": "WMUD0WbGAOHE"
      }
    },
    {
      "cell_type": "code",
      "source": [
        "def prime(data):\n",
        "  if data >1:\n",
        "    for i in range(2,data):\n",
        "      if data%i==0:\n",
        "        return False\n",
        "        break\n",
        "      else:\n",
        "        return True\n",
        "a=filter(prime,[1,2,3,4,5])\n",
        "print(list(a))"
      ],
      "metadata": {
        "colab": {
          "base_uri": "https://localhost:8080/"
        },
        "id": "PiGGno1_ANCO",
        "outputId": "a27ac245-f1e9-4fd0-8246-ada95f6da680"
      },
      "execution_count": null,
      "outputs": [
        {
          "output_type": "stream",
          "name": "stdout",
          "text": [
            "[3, 5]\n"
          ]
        }
      ]
    },
    {
      "cell_type": "markdown",
      "source": [
        "How can you use the `filter()` function to remove None values from a list in Python?"
      ],
      "metadata": {
        "id": "zg3tqDKkAic5"
      }
    },
    {
      "cell_type": "code",
      "source": [
        "def none(data):\n",
        "  if data is None:\n",
        "    return False\n",
        "  else:\n",
        "    return True\n",
        "a=filter(none,[1,2,3,None,4])\n",
        "print(list(a))"
      ],
      "metadata": {
        "colab": {
          "base_uri": "https://localhost:8080/"
        },
        "id": "rKygkADGAmo7",
        "outputId": "3da5ed30-c105-475b-ec7c-97555093d7f7"
      },
      "execution_count": null,
      "outputs": [
        {
          "output_type": "stream",
          "name": "stdout",
          "text": [
            "[1, 2, 3, 4]\n"
          ]
        }
      ]
    },
    {
      "cell_type": "markdown",
      "source": [
        "Create a Python program that uses `filter()` to select words longer than a certain length from a list of strings."
      ],
      "metadata": {
        "id": "InzDo9GpAtTo"
      }
    },
    {
      "cell_type": "code",
      "source": [
        "def length(data):\n",
        "  if len(data)>3:\n",
        "    return True\n",
        "a=filter(length,['uday','kumar'])\n",
        "print(list(a))"
      ],
      "metadata": {
        "colab": {
          "base_uri": "https://localhost:8080/"
        },
        "id": "JwYYMhzWAxAK",
        "outputId": "68261843-fd48-48e6-b9b5-4179dbd4ee9f"
      },
      "execution_count": null,
      "outputs": [
        {
          "output_type": "stream",
          "name": "stdout",
          "text": [
            "['uday', 'kumar']\n"
          ]
        }
      ]
    },
    {
      "cell_type": "markdown",
      "source": [
        "Write a Python program that uses the `filter()` function to select elements greater than a specified threshold from a list of values."
      ],
      "metadata": {
        "id": "Dy0wQ8JoA3bH"
      }
    },
    {
      "cell_type": "code",
      "source": [
        "def threshold(data):\n",
        "  if data>3:\n",
        "    return True\n",
        "a=filter(threshold,[1,2,3,4,5])\n",
        "print(list(a))"
      ],
      "metadata": {
        "colab": {
          "base_uri": "https://localhost:8080/"
        },
        "id": "E02p_yjbA6E0",
        "outputId": "1d6af8d9-27b8-46d1-9aac-97f1b6c681f0"
      },
      "execution_count": null,
      "outputs": [
        {
          "output_type": "stream",
          "name": "stdout",
          "text": [
            "[4, 5]\n"
          ]
        }
      ]
    },
    {
      "cell_type": "markdown",
      "source": [
        "# **Reduce :-**"
      ],
      "metadata": {
        "id": "TPZTODloA-Iw"
      }
    },
    {
      "cell_type": "markdown",
      "source": [
        "What is the `reduce()` function in Python, and what module should you import to use it? Provide an example of its basic usage."
      ],
      "metadata": {
        "id": "J56JWD2CBMav"
      }
    },
    {
      "cell_type": "code",
      "source": [
        "\n",
        "# The reduce() function in Python is used to apply a specified function cumulatively to the items of an iterable, reducing the\n",
        "#  iterable to a single value. To use reduce(), you need to import it from the functools module."
      ],
      "metadata": {
        "id": "K7zGpMsKBL_d"
      },
      "execution_count": null,
      "outputs": []
    },
    {
      "cell_type": "markdown",
      "source": [
        "Write a Python program that uses the `reduce()` function to find the product of all elements in a list."
      ],
      "metadata": {
        "id": "67jVYpqoCIY9"
      }
    },
    {
      "cell_type": "code",
      "source": [
        "from functools import reduce\n",
        "def product(x,y):\n",
        "  return x*y\n",
        "\n",
        "a=reduce(product,[1,2,3,4,5])\n",
        "print(a)"
      ],
      "metadata": {
        "colab": {
          "base_uri": "https://localhost:8080/"
        },
        "id": "QJWj8T33BIgl",
        "outputId": "359dd1f3-edc9-485e-84b2-a139e4639a35"
      },
      "execution_count": null,
      "outputs": [
        {
          "output_type": "stream",
          "name": "stdout",
          "text": [
            "120\n"
          ]
        }
      ]
    },
    {
      "cell_type": "markdown",
      "source": [
        "Create a Python program that uses `reduce()` to find the maximum element in a list of numbers.\n"
      ],
      "metadata": {
        "id": "pDNBT-RcCrd5"
      }
    },
    {
      "cell_type": "code",
      "source": [
        "def max_n(x,y):\n",
        "  if x>y:\n",
        "    return x\n",
        "  else:\n",
        "    return y\n",
        "a=reduce(max_n,[1,2,3,4,5])\n",
        "print(a)"
      ],
      "metadata": {
        "colab": {
          "base_uri": "https://localhost:8080/"
        },
        "id": "0mnTMgmECu6t",
        "outputId": "a240d85f-9903-41c4-db68-d8696916cde9"
      },
      "execution_count": null,
      "outputs": [
        {
          "output_type": "stream",
          "name": "stdout",
          "text": [
            "5\n"
          ]
        }
      ]
    },
    {
      "cell_type": "markdown",
      "source": [
        "How can you use the `reduce()` function to concatenate a list of strings into a single string?"
      ],
      "metadata": {
        "id": "QN80fjYqC31g"
      }
    },
    {
      "cell_type": "code",
      "source": [
        "def concat(x,y):\n",
        "  return x+y\n",
        "a=reduce(concat,['uday','kumar'])\n",
        "print(a)"
      ],
      "metadata": {
        "colab": {
          "base_uri": "https://localhost:8080/"
        },
        "id": "YKcIfDlhC7MW",
        "outputId": "d19b4776-5e29-4944-882b-e093951239e9"
      },
      "execution_count": null,
      "outputs": [
        {
          "output_type": "stream",
          "name": "stdout",
          "text": [
            "udaykumar\n"
          ]
        }
      ]
    },
    {
      "cell_type": "markdown",
      "source": [
        "Write a Python program that calculates the factorial of a number using the `reduce()` function."
      ],
      "metadata": {
        "id": "e57uUSvtC_g7"
      }
    },
    {
      "cell_type": "code",
      "source": [
        "def fact(x,y):\n",
        "  return x*y\n",
        "from functools import reduce\n",
        "a=reduce(fact,range(1,6))\n",
        "print(a)"
      ],
      "metadata": {
        "colab": {
          "base_uri": "https://localhost:8080/"
        },
        "id": "Lig0gGhMDC3T",
        "outputId": "3294e6ec-321d-4d54-c113-8a512d0bf794"
      },
      "execution_count": null,
      "outputs": [
        {
          "output_type": "stream",
          "name": "stdout",
          "text": [
            "120\n"
          ]
        }
      ]
    },
    {
      "cell_type": "markdown",
      "source": [
        "Create a Python program that uses `reduce()` to find the GCD (Greatest Common Divisor) of a list of numbers."
      ],
      "metadata": {
        "id": "Qq53CqF_DJ2r"
      }
    },
    {
      "cell_type": "code",
      "source": [
        "def gcd(x,y):\n",
        "  if x>y:\n",
        "    small=y\n",
        "  else:\n",
        "    small=x\n",
        "  for i in range(1,small+1):\n",
        "    if x%i==0 and y%i==0:\n",
        "      gcd=i\n",
        "  return gcd\n",
        "a=reduce(gcd,[1,2,3,4,5])\n",
        "print(a)"
      ],
      "metadata": {
        "colab": {
          "base_uri": "https://localhost:8080/"
        },
        "id": "r2rCsAusDM1a",
        "outputId": "5b06b576-aa13-40c7-c04b-ee7e3f2c0744"
      },
      "execution_count": null,
      "outputs": [
        {
          "output_type": "stream",
          "name": "stdout",
          "text": [
            "1\n"
          ]
        }
      ]
    },
    {
      "cell_type": "markdown",
      "source": [
        "Write a Python program that uses the `reduce()` function to find the sum of the digits of a given number."
      ],
      "metadata": {
        "id": "oPoHfuUzDg7E"
      }
    },
    {
      "cell_type": "code",
      "source": [
        "def sum_digit(x,y):\n",
        "  return x+y\n",
        "\n",
        "a=reduce(sum_digit,range(1,6))\n",
        "print(a)"
      ],
      "metadata": {
        "colab": {
          "base_uri": "https://localhost:8080/"
        },
        "id": "RfOzAsdEDj8N",
        "outputId": "94cd40ba-1002-4ceb-c214-502d1358c602"
      },
      "execution_count": null,
      "outputs": [
        {
          "output_type": "stream",
          "name": "stdout",
          "text": [
            "15\n"
          ]
        }
      ]
    },
    {
      "cell_type": "markdown",
      "source": [
        "# **Recursion:-**"
      ],
      "metadata": {
        "id": "iUrKvX1GDunl"
      }
    },
    {
      "cell_type": "markdown",
      "source": [
        "Explain the concept of recursion in Python. How does it differ from iteration?"
      ],
      "metadata": {
        "id": "gWmp6R3cD1mh"
      }
    },
    {
      "cell_type": "code",
      "source": [
        "# Recursion in Python is when a function calls itself to solve a smaller instance of a problem, using a base case to terminate.\n",
        "#  Iteration involves repeating a set of instructions with loops (for, while). Recursion suits problems like tree traversal,\n",
        "#   while iteration is better for tasks like traversing lists."
      ],
      "metadata": {
        "id": "-LBSnGcXD1AT"
      },
      "execution_count": null,
      "outputs": []
    },
    {
      "cell_type": "markdown",
      "source": [
        "Write a Python program to calculate the factorial of a number using recursion."
      ],
      "metadata": {
        "id": "M5-weuSREaJM"
      }
    },
    {
      "cell_type": "code",
      "source": [
        "def fact(n):\n",
        "  if n==1:\n",
        "    return 1\n",
        "  else:\n",
        "    return n*fact(n-1)\n",
        "fact(5)"
      ],
      "metadata": {
        "colab": {
          "base_uri": "https://localhost:8080/"
        },
        "id": "K0UVD_6kEf3j",
        "outputId": "ba9c5428-8569-4f45-ccc3-f659c486c2fb"
      },
      "execution_count": null,
      "outputs": [
        {
          "output_type": "execute_result",
          "data": {
            "text/plain": [
              "120"
            ]
          },
          "metadata": {},
          "execution_count": 34
        }
      ]
    },
    {
      "cell_type": "markdown",
      "source": [
        "Create a recursive Python function to find the nth Fibonacci number."
      ],
      "metadata": {
        "id": "cJKhFG2GErA5"
      }
    },
    {
      "cell_type": "code",
      "source": [
        "def fibo(n):\n",
        "  if n==0:\n",
        "    return 0\n",
        "  elif n==1:\n",
        "    return 1\n",
        "  else:\n",
        "    return fibo(n-1)+fibo(n-2)\n",
        "\n",
        "fibo(5)"
      ],
      "metadata": {
        "colab": {
          "base_uri": "https://localhost:8080/"
        },
        "id": "DcRD6kzaEuFN",
        "outputId": "ff6dab89-e509-4d03-c0df-deaa32e5ce6c"
      },
      "execution_count": null,
      "outputs": [
        {
          "output_type": "execute_result",
          "data": {
            "text/plain": [
              "5"
            ]
          },
          "metadata": {},
          "execution_count": 37
        }
      ]
    },
    {
      "cell_type": "markdown",
      "source": [
        "Write a recursive Python function to calculate the sum of all elements in a list."
      ],
      "metadata": {
        "id": "DUpkwwYXFORi"
      }
    },
    {
      "cell_type": "code",
      "source": [
        "def sum(data):\n",
        "  if len(data)==0:\n",
        "    return 0\n",
        "  else:\n",
        "    return data[0]+sum(data[1:])\n",
        "data=[1,2,3,4,5]\n",
        "sum(data)"
      ],
      "metadata": {
        "colab": {
          "base_uri": "https://localhost:8080/"
        },
        "id": "wst4SCpYFULy",
        "outputId": "bdca6d56-80bc-4e9a-9a64-5b6c93f8fafe"
      },
      "execution_count": null,
      "outputs": [
        {
          "output_type": "execute_result",
          "data": {
            "text/plain": [
              "15"
            ]
          },
          "metadata": {},
          "execution_count": 39
        }
      ]
    },
    {
      "cell_type": "markdown",
      "source": [
        "How can you prevent a recursive function from running indefinitely, causing a stack overflow error?"
      ],
      "metadata": {
        "id": "4xd13ebPFiyZ"
      }
    },
    {
      "cell_type": "code",
      "source": [
        "# To prevent a recursive function from running indefinitely and causing a stack overflow error, you must define a base case that stops the recursion.\n",
        "# The base case should be a condition that does not trigger further recursive calls, ensuring that the function terminates."
      ],
      "metadata": {
        "id": "zfhV88MIForQ"
      },
      "execution_count": null,
      "outputs": []
    },
    {
      "cell_type": "markdown",
      "source": [
        "Create a recursive Python function to find the greatest common divisor (GCD) of two numbers using the Euclidean algorithm."
      ],
      "metadata": {
        "id": "-2H15qRwF2x_"
      }
    },
    {
      "cell_type": "code",
      "source": [
        "def gcd(a,b):\n",
        "  if b==0:\n",
        "    return a\n",
        "  else:\n",
        "    return gcd(b,a%b)\n",
        "gcd(10,4)"
      ],
      "metadata": {
        "colab": {
          "base_uri": "https://localhost:8080/"
        },
        "id": "jL2si7grF2J5",
        "outputId": "30002cfb-631b-4e55-cbc7-b0b3dbf82422"
      },
      "execution_count": null,
      "outputs": [
        {
          "output_type": "execute_result",
          "data": {
            "text/plain": [
              "2"
            ]
          },
          "metadata": {},
          "execution_count": 40
        }
      ]
    },
    {
      "cell_type": "markdown",
      "source": [
        "Write a recursive Python function to reverse a string."
      ],
      "metadata": {
        "id": "VRxeocv1GEV9"
      }
    },
    {
      "cell_type": "code",
      "source": [
        "def revers(data):\n",
        "  if len(data)==0:\n",
        "    return ''\n",
        "  else:\n",
        "    return revers(data[1:])+data[0]\n",
        "revers('uday')"
      ],
      "metadata": {
        "colab": {
          "base_uri": "https://localhost:8080/",
          "height": 36
        },
        "id": "EiFH7ErtGG4u",
        "outputId": "3d4309e3-f8a9-4a59-9c1c-8b866643ed2d"
      },
      "execution_count": null,
      "outputs": [
        {
          "output_type": "execute_result",
          "data": {
            "text/plain": [
              "'yadu'"
            ],
            "application/vnd.google.colaboratory.intrinsic+json": {
              "type": "string"
            }
          },
          "metadata": {},
          "execution_count": 41
        }
      ]
    },
    {
      "cell_type": "markdown",
      "source": [
        "Create a recursive Python function to calculate the power of a number (x^n)."
      ],
      "metadata": {
        "id": "5Gn9CNRaGSzi"
      }
    },
    {
      "cell_type": "code",
      "source": [
        "def power(x,n):\n",
        "  if n==0:\n",
        "    return 1\n",
        "  else:\n",
        "    return x*power(x,n-1)\n",
        "power(2,3)"
      ],
      "metadata": {
        "colab": {
          "base_uri": "https://localhost:8080/"
        },
        "id": "YpbRh4ATGWtg",
        "outputId": "d5b2db0b-1ca4-478c-a31d-6757d790e015"
      },
      "execution_count": null,
      "outputs": [
        {
          "output_type": "execute_result",
          "data": {
            "text/plain": [
              "8"
            ]
          },
          "metadata": {},
          "execution_count": 42
        }
      ]
    },
    {
      "cell_type": "markdown",
      "source": [
        "Write a recursive Python function to find all permutations of a given string."
      ],
      "metadata": {
        "id": "dcyuorzkGgh7"
      }
    },
    {
      "cell_type": "code",
      "source": [
        "\n",
        "\n",
        "def permute(s, l, r):\n",
        "    if l == r:\n",
        "        print(\"\".join(s))\n",
        "    else:\n",
        "        for i in range(l, r + 1):\n",
        "            s[l], s[i] = s[i], s[l]  # Swap characters\n",
        "            permute(s, l + 1, r)  # Recursively generate permutations\n",
        "            s[l], s[i] = s[i], s[l]  # Backtrack, undo the swap\n",
        "\n",
        "# Driver code\n",
        "string = \"ABC\"\n",
        "n = len(string)\n",
        "s = list(string)\n",
        "permute(s, 0, n - 1)\n"
      ],
      "metadata": {
        "colab": {
          "base_uri": "https://localhost:8080/"
        },
        "id": "-HXqFLj4Gjvx",
        "outputId": "4e055106-49e3-4b09-90fd-97f40c3ec423"
      },
      "execution_count": null,
      "outputs": [
        {
          "output_type": "stream",
          "name": "stdout",
          "text": [
            "ABC\n",
            "ACB\n",
            "BAC\n",
            "BCA\n",
            "CBA\n",
            "CAB\n"
          ]
        }
      ]
    },
    {
      "cell_type": "markdown",
      "source": [
        "Write a recursive Python function to check if a string is a palindrome."
      ],
      "metadata": {
        "id": "mOgbMj_8G9P-"
      }
    },
    {
      "cell_type": "code",
      "source": [
        "def pelindrome(data):\n",
        "  if len(data)==0 or len(data)==1:\n",
        "    return True\n",
        "  elif data[0]==data[-1]:\n",
        "    return pelindrome(data[1:-1])\n",
        "  else:\n",
        "    return False\n",
        "pelindrome('uday')"
      ],
      "metadata": {
        "colab": {
          "base_uri": "https://localhost:8080/"
        },
        "id": "2CGFariQG_7B",
        "outputId": "5368ccb1-effb-43fb-c6db-c555507b2de4"
      },
      "execution_count": null,
      "outputs": [
        {
          "output_type": "execute_result",
          "data": {
            "text/plain": [
              "False"
            ]
          },
          "metadata": {},
          "execution_count": 44
        }
      ]
    },
    {
      "cell_type": "markdown",
      "source": [
        "Create a recursive Python function to generate all possible combinations of a list of elements."
      ],
      "metadata": {
        "id": "rlSrRax2HLmd"
      }
    },
    {
      "cell_type": "code",
      "source": [
        "# prompt: Create a recursive Python function to generate all possible combinations of a list of elements.\n",
        "\n",
        "def generate_combinations(list_of_elements):\n",
        "    if not list_of_elements:\n",
        "        return [[]]\n",
        "\n",
        "    combinations = []\n",
        "    for i in range(len(list_of_elements)):\n",
        "        current_element = list_of_elements[i]\n",
        "        remaining_elements = list_of_elements[i+1:]\n",
        "\n",
        "        for combination in generate_combinations(remaining_elements):\n",
        "            combinations.append([current_element] + combination)\n",
        "\n",
        "    return combinations\n",
        "\n",
        "# Example usage:\n",
        "list_of_elements = [1, 2, 3, 4]\n",
        "combinations = generate_combinations(list_of_elements)\n",
        "\n",
        "for combination in combinations:\n",
        "    print(combination)\n"
      ],
      "metadata": {
        "colab": {
          "base_uri": "https://localhost:8080/"
        },
        "id": "dg7fYZDOHma8",
        "outputId": "01f6e59c-8ba5-44f7-92da-edcf3d76fafd"
      },
      "execution_count": null,
      "outputs": [
        {
          "output_type": "stream",
          "name": "stdout",
          "text": [
            "[1, 2, 3, 4]\n",
            "[1, 2, 4]\n",
            "[1, 3, 4]\n",
            "[1, 4]\n",
            "[2, 3, 4]\n",
            "[2, 4]\n",
            "[3, 4]\n",
            "[4]\n"
          ]
        }
      ]
    },
    {
      "cell_type": "markdown",
      "source": [
        "# **Basics of Functions:**"
      ],
      "metadata": {
        "id": "zGu1susKVCht"
      }
    },
    {
      "cell_type": "markdown",
      "source": [
        "What is a function in Python, and why is it used?"
      ],
      "metadata": {
        "id": "cuCgo4euVdCr"
      }
    },
    {
      "cell_type": "code",
      "source": [
        "# A function in Python is a reusable block of code that performs a specific task when called with specified inputs\n",
        "#  (parameters). Functions enhance code organization, promote reusability, and simplify complex tasks by encapsulating logic into modular units."
      ],
      "metadata": {
        "id": "y6UawTv5NgwJ"
      },
      "execution_count": null,
      "outputs": []
    },
    {
      "cell_type": "markdown",
      "source": [
        "How do you define a function in Python? Provide an example."
      ],
      "metadata": {
        "id": "0WZcs8TrVyB-"
      }
    },
    {
      "cell_type": "code",
      "source": [
        "def greet(name):\n",
        "    \"\"\"\n",
        "    This function greets the user with the provided name.\n",
        "    \"\"\"\n",
        "    print(f\"Hello, {name}!\")\n",
        "\n",
        "# Calling the function\n",
        "greet(\"Alice\")  # Output: Hello, Alice!\n"
      ],
      "metadata": {
        "colab": {
          "base_uri": "https://localhost:8080/"
        },
        "id": "Hv3C1uLqV2OQ",
        "outputId": "4ec42add-673e-4f2f-b841-19bec445570d"
      },
      "execution_count": null,
      "outputs": [
        {
          "output_type": "stream",
          "name": "stdout",
          "text": [
            "Hello, Alice!\n"
          ]
        }
      ]
    },
    {
      "cell_type": "markdown",
      "source": [
        "Explain the difference between a function definition and a function call."
      ],
      "metadata": {
        "id": "j69w2eGvWbmW"
      }
    },
    {
      "cell_type": "code",
      "source": [
        "# Function Definition: Specifies what the function does and how it works, using the def keyword, parameters, and a code block.\n",
        "# Function Call: Executes the function's code, using the function name followed by parentheses, optionally passing arguments to it."
      ],
      "metadata": {
        "id": "kCR21fa5Xvc5"
      },
      "execution_count": null,
      "outputs": []
    },
    {
      "cell_type": "markdown",
      "source": [
        "Write a Python program that defines a function to calculate the sum of two numbers and then calls the function."
      ],
      "metadata": {
        "id": "_t_VXZ8TX2zc"
      }
    },
    {
      "cell_type": "code",
      "source": [
        "def sum(a,b):\n",
        "  return a+b\n",
        "sum(1,2)\n"
      ],
      "metadata": {
        "colab": {
          "base_uri": "https://localhost:8080/"
        },
        "id": "xgA3Ck6IZm41",
        "outputId": "d0a21132-7213-4403-b019-f373b38a7521"
      },
      "execution_count": null,
      "outputs": [
        {
          "output_type": "execute_result",
          "data": {
            "text/plain": [
              "3"
            ]
          },
          "metadata": {},
          "execution_count": 49
        }
      ]
    },
    {
      "cell_type": "markdown",
      "source": [
        "What is a function signature, and what information does it typically include?"
      ],
      "metadata": {
        "id": "fHSbekmuZtv1"
      }
    },
    {
      "cell_type": "code",
      "source": [
        "# A function signature provides a summary of a function's interface, typically including the function name,\n",
        "#  return type, and parameter list with their types and names. It indicates how the function can be called\n",
        "# and what inputs and outputs are expected. For example, in C++, `int add(int a, int b);` shows a function\n",
        "# named `add` that returns an integer and takes two integer parameters."
      ],
      "metadata": {
        "id": "MSfnb_U5ZxGP"
      },
      "execution_count": null,
      "outputs": []
    },
    {
      "cell_type": "markdown",
      "source": [
        "Create a Python function that takes two arguments and returns their product."
      ],
      "metadata": {
        "id": "i1nRBipHPu-t"
      }
    },
    {
      "cell_type": "code",
      "source": [
        "def pro(x,y):\n",
        "  return x*y\n",
        "pro(2,3)"
      ],
      "metadata": {
        "colab": {
          "base_uri": "https://localhost:8080/"
        },
        "id": "Qtx3IbauPxX2",
        "outputId": "06590922-9ae6-4a91-fbf5-bb50997771df"
      },
      "execution_count": 1,
      "outputs": [
        {
          "output_type": "execute_result",
          "data": {
            "text/plain": [
              "6"
            ]
          },
          "metadata": {},
          "execution_count": 1
        }
      ]
    },
    {
      "cell_type": "markdown",
      "source": [
        "# **Function Parameters and Arguments:**"
      ],
      "metadata": {
        "id": "eW-bgeAhP3lN"
      }
    },
    {
      "cell_type": "markdown",
      "source": [
        "Explain the concepts of formal parameters and actual arguments in Python functions."
      ],
      "metadata": {
        "id": "FMbKdWLHQHHa"
      }
    },
    {
      "cell_type": "code",
      "source": [
        "\n",
        "# In Python functions, formal parameters are the variables defined in the function's signature that receive values when the function is called.\n",
        "# They act as placeholders within the function's bodyActual arguments are the real values or expressions passed to the function when it is invoked.\n",
        "# These values are assigned to the formal parameters."
      ],
      "metadata": {
        "id": "eCO3aLpoQC38"
      },
      "execution_count": null,
      "outputs": []
    },
    {
      "cell_type": "markdown",
      "source": [
        "Write a Python program that defines a function with default argument values."
      ],
      "metadata": {
        "id": "8z7n-pniQfLV"
      }
    },
    {
      "cell_type": "code",
      "source": [
        "def greet(name=\"Guest\", greeting=\"Hello\"):\n",
        "    print(f\"{greeting}, {name}!\")\n",
        "\n",
        "# Calling the function with different arguments\n",
        "greet()  # Uses default values: \"Hello, Guest!\"\n",
        "greet(\"Alice\")  # Uses default greeting: \"Hello, Alice!\"\n",
        "greet(\"Bob\", \"Hi\")  # Uses provided values: \"Hi, Bob!\"\n",
        "# In this program, the greet function has two parameters, name and greeting, both of which have default values\n",
        "#  (\"Guest\" and \"Hello\", respectively). The function can be called with no arguments, one argument, or both arguments.\n"
      ],
      "metadata": {
        "id": "d2H9gH_CQn9I"
      },
      "execution_count": null,
      "outputs": []
    },
    {
      "cell_type": "markdown",
      "source": [
        "How do you use keyword arguments in Python function calls? Provide an example."
      ],
      "metadata": {
        "id": "-oytgUDKQ-iM"
      }
    },
    {
      "cell_type": "code",
      "source": [
        "def describe_pet(pet_name, animal_type=\"dog\"):\n",
        "    print(f\"I have a {animal_type}.\")\n",
        "    print(f\"My {animal_type}'s name is {pet_name}.\")\n",
        "\n",
        "# Using keyword arguments\n",
        "describe_pet(pet_name=\"Whiskers\", animal_type=\"cat\")\n",
        "describe_pet(animal_type=\"hamster\", pet_name=\"Nibbles\")\n"
      ],
      "metadata": {
        "colab": {
          "base_uri": "https://localhost:8080/"
        },
        "id": "wvJtZ2NfRCYH",
        "outputId": "2dbf7ed4-258a-4276-c335-0feeafbc33ec"
      },
      "execution_count": 2,
      "outputs": [
        {
          "output_type": "stream",
          "name": "stdout",
          "text": [
            "I have a cat.\n",
            "My cat's name is Whiskers.\n",
            "I have a hamster.\n",
            "My hamster's name is Nibbles.\n"
          ]
        }
      ]
    },
    {
      "cell_type": "markdown",
      "source": [
        "Create a Python function that accepts a variable number of arguments and calculates their sum."
      ],
      "metadata": {
        "id": "JyJG72KBRfAZ"
      }
    },
    {
      "cell_type": "code",
      "source": [
        "def sum(*args):\n",
        "    total = 0\n",
        "    for num in args:\n",
        "        total += num\n",
        "    return total\n",
        "\n",
        "# Example usage\n",
        "result = sum(1, 2, 3, 4, 5)\n",
        "print(result)  # Output: 15"
      ],
      "metadata": {
        "colab": {
          "base_uri": "https://localhost:8080/"
        },
        "id": "58-K1w2sRmve",
        "outputId": "cd83374d-e34d-4c26-dd81-6b0de04c9f86"
      },
      "execution_count": 3,
      "outputs": [
        {
          "output_type": "stream",
          "name": "stdout",
          "text": [
            "15\n"
          ]
        }
      ]
    },
    {
      "cell_type": "markdown",
      "source": [],
      "metadata": {
        "id": "jFCe5SWGR0zZ"
      }
    },
    {
      "cell_type": "markdown",
      "source": [
        "What is the purpose of the `*args` and `**kwargs` syntax in function parameter lists?"
      ],
      "metadata": {
        "id": "hBwRD1u1R0Xz"
      }
    },
    {
      "cell_type": "code",
      "source": [
        "# *args is used to pass a variable number of non-keyword arguments to a function. Inside the function, args is a tuple containing all the arguments passed.\n",
        "\n",
        "# **kwargs is used to pass a variable number of keyword arguments to a function. Inside the function, kwargs is a dictionary containing all the keyword arguments passed."
      ],
      "metadata": {
        "id": "_AToL5agRtfw"
      },
      "execution_count": null,
      "outputs": []
    },
    {
      "cell_type": "markdown",
      "source": [
        "# **Values and Scoping:**\n"
      ],
      "metadata": {
        "id": "6gLkvIrTSKKK"
      }
    },
    {
      "cell_type": "markdown",
      "source": [
        "\n",
        "Describe the role of the `return` statement in Python functions and provide examples.\n"
      ],
      "metadata": {
        "id": "xPIqlXJoSUs6"
      }
    },
    {
      "cell_type": "code",
      "source": [
        "\n",
        "# The return statement in Python functions is used to exit a function and send a value back to the caller.\n",
        "# This value can be of any data type, including numbers, strings, lists, dictionaries, or even another function.\n",
        "# If a function does not have a return statement, it returns None by default."
      ],
      "metadata": {
        "id": "wtMuUCn-SS3u"
      },
      "execution_count": null,
      "outputs": []
    },
    {
      "cell_type": "markdown",
      "source": [
        "Write a Python program that demonstrates the use of global variables within functions."
      ],
      "metadata": {
        "id": "EzwNtUirTA7x"
      }
    },
    {
      "cell_type": "code",
      "source": [
        "count=0\n",
        "def sum(x,y):\n",
        "  global count\n",
        "  count+=1\n",
        "  return x+y\n",
        "sum(1,2)\n",
        "print(count)"
      ],
      "metadata": {
        "colab": {
          "base_uri": "https://localhost:8080/"
        },
        "id": "j05mXe3QUDo8",
        "outputId": "c61000d3-8fe3-4dba-90ce-3c2dff2988f3"
      },
      "execution_count": 5,
      "outputs": [
        {
          "output_type": "stream",
          "name": "stdout",
          "text": [
            "1\n"
          ]
        }
      ]
    },
    {
      "cell_type": "markdown",
      "source": [
        "How can you access variables defined outside a function from within the function?"
      ],
      "metadata": {
        "id": "IcdZxnO8UMY-"
      }
    },
    {
      "cell_type": "code",
      "source": [
        "x = 10  # Global variable\n",
        "\n",
        "def access_global():\n",
        "    print(x)  # Accessing the global variable\n",
        "\n",
        "def modify_global():\n",
        "    global x\n",
        "    x = 20  # Modifying the global variable\n",
        "\n",
        "access_global()  # Output: 10\n",
        "modify_global()\n",
        "access_global()  # Output: 20\n"
      ],
      "metadata": {
        "id": "uLtWSVHWUPsY"
      },
      "execution_count": null,
      "outputs": []
    },
    {
      "cell_type": "markdown",
      "source": [
        "# **Lambda Functions and Higher-Order Functions:**"
      ],
      "metadata": {
        "id": "7zVsBbo_Uq5w"
      }
    },
    {
      "cell_type": "markdown",
      "source": [
        "What are lambda functions in Python, and when are they typically used?"
      ],
      "metadata": {
        "id": "gWQlw5i1UxH0"
      }
    },
    {
      "cell_type": "code",
      "source": [
        "# Lambda functions in Python are small anonymous functions defined with the lambda keyword. They are used for creating simple,\n",
        "# one-line functions without the need for a full function definition.\n",
        "# Regular function\n",
        "def square(x):\n",
        "    return x ** 2\n",
        "\n",
        "print(square(5))  # Output: 25\n",
        "\n",
        "# Equivalent lambda function\n",
        "square_lambda = lambda x: x ** 2\n",
        "print(square_lambda(5))  # Output: 25\n"
      ],
      "metadata": {
        "id": "8XTjZ9m2Uvzb"
      },
      "execution_count": null,
      "outputs": []
    },
    {
      "cell_type": "markdown",
      "source": [
        "Write a Python program that uses lambda functions to sort a list of tuples based on the second element."
      ],
      "metadata": {
        "id": "bUBI2BX8Uwqu"
      }
    },
    {
      "cell_type": "code",
      "source": [
        "def sort_tuples(tuples):\n",
        "    return sorted(tuples, key=lambda x: x[1])\n",
        "\n",
        "# Example usage\n",
        "tuples = [(2, 5), (1, 3), (4, 1), (3, 4)]\n",
        "sorted_tuples = sort_tuples(tuples)\n",
        "print(sorted_tuples)"
      ],
      "metadata": {
        "colab": {
          "base_uri": "https://localhost:8080/"
        },
        "id": "iGoBRBIVVORi",
        "outputId": "15da692a-1c60-4aaf-b9ac-959d342deaee"
      },
      "execution_count": 6,
      "outputs": [
        {
          "output_type": "stream",
          "name": "stdout",
          "text": [
            "[(4, 1), (1, 3), (3, 4), (2, 5)]\n"
          ]
        }
      ]
    },
    {
      "cell_type": "markdown",
      "source": [
        "Explain the concept of higher-order functions in Python, and provide an example.\n",
        "\n",
        "---\n",
        "\n"
      ],
      "metadata": {
        "id": "TMFgPGrhVbdF"
      }
    },
    {
      "cell_type": "code",
      "source": [
        "# In Python, higher-order functions are functions that can accept other functions as arguments,\n",
        "#  return functions as results, or both. This concept is supported due to Python's first-class function capabilities,\n",
        "#   where functions are treated as first-class citizens.\n",
        "\n"
      ],
      "metadata": {
        "id": "mSzY7w8jVi77"
      },
      "execution_count": null,
      "outputs": []
    },
    {
      "cell_type": "markdown",
      "source": [
        "Create a Python function that takes a list of numbers and a function as arguments, applying the function to each element in the list."
      ],
      "metadata": {
        "id": "qfmxQo-UVnsM"
      }
    },
    {
      "cell_type": "code",
      "source": [
        "def apply_function_to_list(numbers, func):\n",
        "    return [func(num) for num in numbers]\n",
        "\n",
        "# Example usage:\n",
        "numbers = [1, 2, 3, 4, 5]\n",
        "\n",
        "# Define a function to square a number\n",
        "def square(x):\n",
        "    return x ** 2\n",
        "\n",
        "# Applying the square function to each element in numbers\n",
        "squared_numbers = apply_function_to_list(numbers, square)\n",
        "print(squared_numbers)  # Output: [1, 4, 9, 16, 25]\n"
      ],
      "metadata": {
        "id": "n2rMlERcVyBq"
      },
      "execution_count": null,
      "outputs": []
    },
    {
      "cell_type": "markdown",
      "source": [
        "# **Built-in Functions:**"
      ],
      "metadata": {
        "id": "O8m1XKXKV7Rm"
      }
    },
    {
      "cell_type": "markdown",
      "source": [
        "Describe the role of built-in functions like `len()`, `max()`, and `min()` in Python."
      ],
      "metadata": {
        "id": "kuCphA9uV_G5"
      }
    },
    {
      "cell_type": "code",
      "source": [
        "# len(): Returns the number of items in an object (e.g., length of a list, number of characters in a string).\n",
        "\n",
        "# max(): Returns the largest item in an iterable or the largest of two or more arguments.\n",
        "\n",
        "# min(): Returns the smallest item in an iterable or the smallest of two or more arguments."
      ],
      "metadata": {
        "id": "EYqZUzBhWH6N"
      },
      "execution_count": null,
      "outputs": []
    },
    {
      "cell_type": "markdown",
      "source": [
        "Write a Python program that uses the `map()` function to apply a function to each element of a list."
      ],
      "metadata": {
        "id": "oUuXPNhgWJUF"
      }
    },
    {
      "cell_type": "code",
      "source": [
        "def square(n):\n",
        "  return n * n\n",
        "\n",
        "numbers = [1, 2, 3, 4, 5]\n",
        "squared_numbers = map(square, numbers)\n",
        "\n",
        "# Convert the iterator to a list to see the results\n",
        "print(list(squared_numbers))  # Output: [1, 4, 9, 16, 25]"
      ],
      "metadata": {
        "colab": {
          "base_uri": "https://localhost:8080/"
        },
        "id": "jH9fs_7xWObE",
        "outputId": "b2c4f895-b5a2-4cb1-9878-cff5b74a9a28"
      },
      "execution_count": 8,
      "outputs": [
        {
          "output_type": "stream",
          "name": "stdout",
          "text": [
            "[1, 4, 9, 16, 25]\n"
          ]
        }
      ]
    },
    {
      "cell_type": "markdown",
      "source": [
        "How does the `filter()` function work in Python, and when would you use it?\n"
      ],
      "metadata": {
        "id": "mhZT8QSTWN0Z"
      }
    },
    {
      "cell_type": "code",
      "source": [
        "def fil(x):\n",
        "  if x%2==0:\n",
        "    return True\n",
        "  else:\n",
        "    return False\n",
        "numbers = [1, 2, 3, 4, 5]\n",
        "even_numbers = filter(fil, numbers)\n",
        "print(list(even_numbers))  # Output: [2, 4]"
      ],
      "metadata": {
        "colab": {
          "base_uri": "https://localhost:8080/"
        },
        "id": "Yu-A-JrFWnza",
        "outputId": "f290e809-8c88-4825-fa01-c401ed5d2471"
      },
      "execution_count": 10,
      "outputs": [
        {
          "output_type": "stream",
          "name": "stdout",
          "text": [
            "[2, 4]\n"
          ]
        }
      ]
    },
    {
      "cell_type": "markdown",
      "source": [
        "Create a Python program that uses the `reduce()` function to find the product of all elements in a list."
      ],
      "metadata": {
        "id": "1WbJMnu-Wv0I"
      }
    },
    {
      "cell_type": "code",
      "source": [
        "def pro(x,y):\n",
        "  return x*y\n",
        "from functools import reduce\n",
        "a=reduce(pro,[1,2,3,4,5])\n",
        "print(a)"
      ],
      "metadata": {
        "colab": {
          "base_uri": "https://localhost:8080/"
        },
        "id": "Yuq4Xj4TWykz",
        "outputId": "367a15ff-c962-4f14-8e91-45c2631dc860"
      },
      "execution_count": 12,
      "outputs": [
        {
          "output_type": "stream",
          "name": "stdout",
          "text": [
            "120\n"
          ]
        }
      ]
    },
    {
      "cell_type": "markdown",
      "source": [
        "# **Function Documentation and Best Practices:**"
      ],
      "metadata": {
        "id": "ZAFW9w3pW3Uo"
      }
    },
    {
      "cell_type": "markdown",
      "source": [
        "Explain the purpose of docstrings in Python functions and how to write them."
      ],
      "metadata": {
        "id": "Bm5YGjVvW8tN"
      }
    },
    {
      "cell_type": "code",
      "source": [
        "# Docstrings in Python functions serve the purpose of providing a convenient way of associating documentation with functions,\n",
        "#  classes, modules, or methods. They describe what the function does, its parameters, and its return values. Docstrings help\n",
        "#  other developers understand the function's purpose and usage without needing to read the implementation."
      ],
      "metadata": {
        "id": "Rw5gzZlnXJJZ"
      },
      "execution_count": null,
      "outputs": []
    },
    {
      "cell_type": "markdown",
      "source": [
        "Describe some best practices for naming functions and variables in Python, including naming conventions and guidelines."
      ],
      "metadata": {
        "id": "7aPAGDjjXg0t"
      }
    },
    {
      "cell_type": "code",
      "source": [
        "\n",
        "\n",
        "# 1. **Descriptive Names**: Use names that clearly describe what the variable or function does.\n",
        "#    - Good: `total_price`, `calculate_area`\n",
        "#    - Bad: `tp`, `calc`\n",
        "\n",
        "# 2. **Snake Case for Variables and Functions**: Use lowercase letters with underscores between words.\n",
        "#    - Example: `total_price`, `calculate_area`\n",
        "\n",
        "# 3. **Camel Case for Class Names**: Capitalize the first letter of each word.\n",
        "#    - Example: `ShoppingCart`, `EmployeeDetails`\n",
        "\n",
        "# 4. **Constants in All Capitals**: Use all uppercase letters with underscores between words for constants.\n",
        "#    - Example: `MAX_RETRIES`, `PI`\n",
        "\n",
        "# ### Guidelines:\n",
        "\n",
        "# 1. **Consistency**: Use the same naming style throughout your code.\n",
        "\n",
        "# 2. **Avoid Single Letters**: Use descriptive names instead of single letters, unless in simple loops.\n",
        "#    - Good: `index`, `item`\n",
        "#    - Bad: `i`, `x`\n",
        "\n",
        "# 3. **Boolean Prefixes**: Use `is`, `has`, `can`, `should` for boolean variables.\n",
        "#    - Example: `is_valid`, `has_items`\n",
        "\n",
        "# 4. **Avoid Reserved Words**: Don't use Python's reserved keywords as names.\n",
        "\n",
        "# 5. **Verb Phrases for Functions**: Start function names with a verb.\n",
        "#    - Example: `calculate_total`, `print_report`\n",
        "\n",
        "# 6. **Singular Nouns for Single Items**: Use singular names for variables representing single items.\n",
        "#    - Example: `user`, `item`\n",
        "\n",
        "# 7. **Keep It Short and Descriptive**: Names should be clear but not too long.\n",
        "#    - Example: `count_items`, `get_user_name`\n",
        "\n",
        "# ### Examples:\n",
        "\n",
        "# #### Functions:\n",
        "# ```python\n",
        "# def calculate_area(radius):\n",
        "#     \"\"\"Calculate the area of a circle given its radius.\"\"\"\n",
        "#     return 3.14 * radius * radius\n",
        "\n",
        "# def print_report(report_data):\n",
        "#     \"\"\"Print the report based on the given data.\"\"\"\n",
        "#     print(report_data)\n",
        "# ```\n",
        "\n",
        "# #### Variables:\n",
        "# ```python\n",
        "# total_price = 100.50\n",
        "# max_retries = 5\n",
        "# user_name = \"Alice\"\n",
        "# is_valid = True\n",
        "# ```\n",
        "\n",
        "# By following these simple guidelines, your Python code will be easier to read and understand."
      ],
      "metadata": {
        "id": "yVUybCHlXlS8"
      },
      "execution_count": null,
      "outputs": []
    },
    {
      "cell_type": "code",
      "source": [],
      "metadata": {
        "id": "QTrUKupCYTAa"
      },
      "execution_count": null,
      "outputs": []
    },
    {
      "cell_type": "code",
      "source": [],
      "metadata": {
        "id": "1heYpI6mYS9B"
      },
      "execution_count": null,
      "outputs": []
    }
  ]
}